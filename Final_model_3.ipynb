{
  "cells": [
    {
      "cell_type": "markdown",
      "metadata": {
        "id": "view-in-github",
        "colab_type": "text"
      },
      "source": [
        "<a href=\"https://colab.research.google.com/github/Sauptik23/Identification-of-medicinal-plants/blob/main/Final_model_3.ipynb\" target=\"_parent\"><img src=\"https://colab.research.google.com/assets/colab-badge.svg\" alt=\"Open In Colab\"/></a>"
      ]
    },
    {
      "cell_type": "markdown",
      "metadata": {
        "id": "CO5yVdOq1ADV"
      },
      "source": [
        "##Installations"
      ]
    },
    {
      "cell_type": "code",
      "execution_count": 1,
      "metadata": {
        "colab": {
          "base_uri": "https://localhost:8080/"
        },
        "id": "-oo-pOwp0nM6",
        "outputId": "72a30015-16f2-4e73-f71b-25d53bf82cd3"
      },
      "outputs": [
        {
          "output_type": "stream",
          "name": "stdout",
          "text": [
            "Collecting split-folders\n",
            "  Downloading split_folders-0.5.1-py3-none-any.whl (8.4 kB)\n",
            "Installing collected packages: split-folders\n",
            "Successfully installed split-folders-0.5.1\n"
          ]
        }
      ],
      "source": [
        "!pip install -q kaggle\n",
        "!pip install -q opendatasets\n",
        "!pip install split-folders"
      ]
    },
    {
      "cell_type": "markdown",
      "source": [
        "##Imports"
      ],
      "metadata": {
        "id": "--WewDm3aTK5"
      }
    },
    {
      "cell_type": "code",
      "execution_count": 2,
      "metadata": {
        "id": "7aPHHvz_0qje"
      },
      "outputs": [],
      "source": [
        "import tensorflow as tf\n",
        "import matplotlib.pyplot as plt\n",
        "import opendatasets as od\n",
        "from numpy.ma.core import true_divide\n",
        "from tensorflow.keras.preprocessing.image import ImageDataGenerator\n",
        "import splitfolders\n",
        "from keras.api._v2.keras.preprocessing import image_dataset_from_directory\n",
        "from tensorflow.keras.layers import RandomFlip,RandomRotation,RandomZoom,RandomHeight,RandomWidth\n",
        "from tensorflow.keras.models import Sequential\n",
        "from tensorflow.keras.layers.experimental import preprocessing\n",
        "from tensorflow.keras.applications.efficientnet import EfficientNetB3,EfficientNetB5,EfficientNetB2\n",
        "from keras.layers import Flatten, Dense,Dropout,Input,Activation\n",
        "from keras.layers import GlobalAveragePooling2D\n",
        "import tensorflow_hub as hub\n",
        "import matplotlib.pyplot as plt\n",
        "import matplotlib.image as mpimg\n",
        "import random\n",
        "import os\n",
        "import tensorflow as tf\n",
        "import tensorflow_hub as hub\n",
        "from tensorflow.keras import layers"
      ]
    },
    {
      "cell_type": "code",
      "execution_count": 3,
      "metadata": {
        "colab": {
          "base_uri": "https://localhost:8080/"
        },
        "id": "OIdIlq8a4wDc",
        "outputId": "f7c579a3-382a-4d6e-ce17-bb737966c90d"
      },
      "outputs": [
        {
          "output_type": "stream",
          "name": "stdout",
          "text": [
            "Please provide your Kaggle credentials to download this dataset. Learn more: http://bit.ly/kaggle-creds\n",
            "Your Kaggle username: sauptikmukherjee\n",
            "Your Kaggle Key: ··········\n",
            "Downloading indian-medicinal-leaves-dataset.zip to ./indian-medicinal-leaves-dataset\n"
          ]
        },
        {
          "output_type": "stream",
          "name": "stderr",
          "text": [
            "100%|██████████| 9.00G/9.00G [01:34<00:00, 102MB/s]\n"
          ]
        },
        {
          "output_type": "stream",
          "name": "stdout",
          "text": [
            "\n"
          ]
        }
      ],
      "source": [
        "od.download(\n",
        "    \"https://www.kaggle.com/datasets/aryashah2k/indian-medicinal-leaves-dataset\"\n",
        "    )"
      ]
    },
    {
      "cell_type": "markdown",
      "metadata": {
        "id": "YC29QMYD7Qiz"
      },
      "source": [
        "#Inspecting the dataset"
      ]
    },
    {
      "cell_type": "code",
      "execution_count": null,
      "metadata": {
        "colab": {
          "base_uri": "https://localhost:8080/"
        },
        "id": "7uJkcrlN037U",
        "outputId": "d8f7b1dc-1136-447d-b844-4d44135b772d"
      },
      "outputs": [
        {
          "name": "stdout",
          "output_type": "stream",
          "text": [
            "There are 2 directories and 0 images in 'Indian Medicinal Leaves Image Datasets'.\n",
            "There are 40 directories and 0 images in 'Indian Medicinal Leaves Image Datasets/Medicinal plant dataset'.\n",
            "There are 0 directories and 146 images in 'Indian Medicinal Leaves Image Datasets/Medicinal plant dataset/Raktachandini'.\n",
            "There are 0 directories and 152 images in 'Indian Medicinal Leaves Image Datasets/Medicinal plant dataset/Nagadali'.\n",
            "There are 0 directories and 165 images in 'Indian Medicinal Leaves Image Datasets/Medicinal plant dataset/Hibiscus'.\n",
            "There are 0 directories and 146 images in 'Indian Medicinal Leaves Image Datasets/Medicinal plant dataset/Wood_sorel'.\n",
            "There are 0 directories and 146 images in 'Indian Medicinal Leaves Image Datasets/Medicinal plant dataset/Gauva'.\n",
            "There are 0 directories and 187 images in 'Indian Medicinal Leaves Image Datasets/Medicinal plant dataset/Jasmine'.\n",
            "There are 0 directories and 150 images in 'Indian Medicinal Leaves Image Datasets/Medicinal plant dataset/Henna'.\n",
            "There are 0 directories and 146 images in 'Indian Medicinal Leaves Image Datasets/Medicinal plant dataset/Amla'.\n",
            "There are 0 directories and 146 images in 'Indian Medicinal Leaves Image Datasets/Medicinal plant dataset/Nithyapushpa'.\n",
            "There are 0 directories and 146 images in 'Indian Medicinal Leaves Image Datasets/Medicinal plant dataset/Arali'.\n",
            "There are 0 directories and 146 images in 'Indian Medicinal Leaves Image Datasets/Medicinal plant dataset/Avacado'.\n",
            "There are 0 directories and 146 images in 'Indian Medicinal Leaves Image Datasets/Medicinal plant dataset/Sapota'.\n",
            "There are 0 directories and 146 images in 'Indian Medicinal Leaves Image Datasets/Medicinal plant dataset/Neem'.\n",
            "There are 0 directories and 146 images in 'Indian Medicinal Leaves Image Datasets/Medicinal plant dataset/Lemon_grass'.\n",
            "There are 0 directories and 146 images in 'Indian Medicinal Leaves Image Datasets/Medicinal plant dataset/Lemon'.\n",
            "There are 0 directories and 153 images in 'Indian Medicinal Leaves Image Datasets/Medicinal plant dataset/Mint'.\n",
            "There are 0 directories and 146 images in 'Indian Medicinal Leaves Image Datasets/Medicinal plant dataset/Basale'.\n",
            "There are 0 directories and 146 images in 'Indian Medicinal Leaves Image Datasets/Medicinal plant dataset/Amruta_Balli'.\n",
            "There are 0 directories and 146 images in 'Indian Medicinal Leaves Image Datasets/Medicinal plant dataset/Pepper'.\n",
            "There are 0 directories and 146 images in 'Indian Medicinal Leaves Image Datasets/Medicinal plant dataset/Tulasi'.\n",
            "There are 0 directories and 146 images in 'Indian Medicinal Leaves Image Datasets/Medicinal plant dataset/Bamboo'.\n",
            "There are 0 directories and 146 images in 'Indian Medicinal Leaves Image Datasets/Medicinal plant dataset/Curry_Leaf'.\n",
            "There are 0 directories and 160 images in 'Indian Medicinal Leaves Image Datasets/Medicinal plant dataset/Castor'.\n",
            "There are 0 directories and 146 images in 'Indian Medicinal Leaves Image Datasets/Medicinal plant dataset/Betel_Nut'.\n",
            "There are 0 directories and 146 images in 'Indian Medicinal Leaves Image Datasets/Medicinal plant dataset/Brahmi'.\n",
            "There are 0 directories and 146 images in 'Indian Medicinal Leaves Image Datasets/Medicinal plant dataset/Ashoka'.\n",
            "There are 0 directories and 164 images in 'Indian Medicinal Leaves Image Datasets/Medicinal plant dataset/Aloevera'.\n",
            "There are 0 directories and 115 images in 'Indian Medicinal Leaves Image Datasets/Medicinal plant dataset/Ganike'.\n",
            "There are 0 directories and 146 images in 'Indian Medicinal Leaves Image Datasets/Medicinal plant dataset/Ashwagandha'.\n",
            "There are 0 directories and 146 images in 'Indian Medicinal Leaves Image Datasets/Medicinal plant dataset/Doddapatre'.\n",
            "There are 0 directories and 146 images in 'Indian Medicinal Leaves Image Datasets/Medicinal plant dataset/Ekka'.\n",
            "There are 0 directories and 146 images in 'Indian Medicinal Leaves Image Datasets/Medicinal plant dataset/Mango'.\n",
            "There are 0 directories and 146 images in 'Indian Medicinal Leaves Image Datasets/Medicinal plant dataset/Pomegranate'.\n",
            "There are 0 directories and 146 images in 'Indian Medicinal Leaves Image Datasets/Medicinal plant dataset/Nooni'.\n",
            "There are 0 directories and 168 images in 'Indian Medicinal Leaves Image Datasets/Medicinal plant dataset/Rose'.\n",
            "There are 0 directories and 146 images in 'Indian Medicinal Leaves Image Datasets/Medicinal plant dataset/Pappaya'.\n",
            "There are 0 directories and 151 images in 'Indian Medicinal Leaves Image Datasets/Medicinal plant dataset/Betel'.\n",
            "There are 0 directories and 146 images in 'Indian Medicinal Leaves Image Datasets/Medicinal plant dataset/Geranium'.\n",
            "There are 0 directories and 146 images in 'Indian Medicinal Leaves Image Datasets/Medicinal plant dataset/Honge'.\n",
            "There are 0 directories and 146 images in 'Indian Medicinal Leaves Image Datasets/Medicinal plant dataset/Insulin'.\n",
            "There are 80 directories and 0 images in 'Indian Medicinal Leaves Image Datasets/Medicinal Leaf dataset'.\n",
            "There are 0 directories and 115 images in 'Indian Medicinal Leaves Image Datasets/Medicinal Leaf dataset/Coriender'.\n",
            "There are 0 directories and 76 images in 'Indian Medicinal Leaves Image Datasets/Medicinal Leaf dataset/Badipala'.\n",
            "There are 0 directories and 82 images in 'Indian Medicinal Leaves Image Datasets/Medicinal Leaf dataset/Astma_weed'.\n",
            "There are 0 directories and 73 images in 'Indian Medicinal Leaves Image Datasets/Medicinal Leaf dataset/Bringaraja'.\n",
            "There are 0 directories and 75 images in 'Indian Medicinal Leaves Image Datasets/Medicinal Leaf dataset/Pomoegranate'.\n",
            "There are 0 directories and 59 images in 'Indian Medicinal Leaves Image Datasets/Medicinal Leaf dataset/Kambajala'.\n",
            "There are 0 directories and 67 images in 'Indian Medicinal Leaves Image Datasets/Medicinal Leaf dataset/Common rue(naagdalli)'.\n",
            "There are 0 directories and 110 images in 'Indian Medicinal Leaves Image Datasets/Medicinal Leaf dataset/Jackfruit'.\n",
            "There are 0 directories and 118 images in 'Indian Medicinal Leaves Image Datasets/Medicinal Leaf dataset/Hibiscus'.\n",
            "There are 0 directories and 128 images in 'Indian Medicinal Leaves Image Datasets/Medicinal Leaf dataset/Guava'.\n",
            "There are 0 directories and 90 images in 'Indian Medicinal Leaves Image Datasets/Medicinal Leaf dataset/Nelavembu'.\n",
            "There are 0 directories and 76 images in 'Indian Medicinal Leaves Image Datasets/Medicinal Leaf dataset/Lantana'.\n",
            "There are 0 directories and 49 images in 'Indian Medicinal Leaves Image Datasets/Medicinal Leaf dataset/Jasmine'.\n",
            "There are 0 directories and 69 images in 'Indian Medicinal Leaves Image Datasets/Medicinal Leaf dataset/Chilly'.\n",
            "There are 0 directories and 80 images in 'Indian Medicinal Leaves Image Datasets/Medicinal Leaf dataset/Henna'.\n",
            "There are 0 directories and 40 images in 'Indian Medicinal Leaves Image Datasets/Medicinal Leaf dataset/Raddish'.\n",
            "There are 0 directories and 92 images in 'Indian Medicinal Leaves Image Datasets/Medicinal Leaf dataset/Onion'.\n",
            "There are 0 directories and 47 images in 'Indian Medicinal Leaves Image Datasets/Medicinal Leaf dataset/Pea'.\n",
            "There are 0 directories and 67 images in 'Indian Medicinal Leaves Image Datasets/Medicinal Leaf dataset/Amla'.\n",
            "There are 0 directories and 89 images in 'Indian Medicinal Leaves Image Datasets/Medicinal Leaf dataset/Arali'.\n",
            "There are 0 directories and 67 images in 'Indian Medicinal Leaves Image Datasets/Medicinal Leaf dataset/kamakasturi'.\n",
            "There are 0 directories and 62 images in 'Indian Medicinal Leaves Image Datasets/Medicinal Leaf dataset/Tomato'.\n",
            "There are 0 directories and 66 images in 'Indian Medicinal Leaves Image Datasets/Medicinal Leaf dataset/Parijatha'.\n",
            "There are 0 directories and 45 images in 'Indian Medicinal Leaves Image Datasets/Medicinal Leaf dataset/Sapota'.\n",
            "There are 0 directories and 132 images in 'Indian Medicinal Leaves Image Datasets/Medicinal Leaf dataset/Neem'.\n",
            "There are 0 directories and 123 images in 'Indian Medicinal Leaves Image Datasets/Medicinal Leaf dataset/Lemon'.\n",
            "There are 0 directories and 48 images in 'Indian Medicinal Leaves Image Datasets/Medicinal Leaf dataset/Kasambruga'.\n",
            "There are 0 directories and 135 images in 'Indian Medicinal Leaves Image Datasets/Medicinal Leaf dataset/Mint'.\n",
            "There are 0 directories and 135 images in 'Indian Medicinal Leaves Image Datasets/Medicinal Leaf dataset/Papaya'.\n",
            "There are 0 directories and 39 images in 'Indian Medicinal Leaves Image Datasets/Medicinal Leaf dataset/Turmeric'.\n",
            "There are 0 directories and 8 images in 'Indian Medicinal Leaves Image Datasets/Medicinal Leaf dataset/Pepper'.\n",
            "There are 0 directories and 79 images in 'Indian Medicinal Leaves Image Datasets/Medicinal Leaf dataset/Gasagase'.\n",
            "There are 0 directories and 92 images in 'Indian Medicinal Leaves Image Datasets/Medicinal Leaf dataset/Pumpkin'.\n",
            "There are 0 directories and 75 images in 'Indian Medicinal Leaves Image Datasets/Medicinal Leaf dataset/Ganigale'.\n",
            "There are 0 directories and 104 images in 'Indian Medicinal Leaves Image Datasets/Medicinal Leaf dataset/Bhrami'.\n",
            "There are 0 directories and 61 images in 'Indian Medicinal Leaves Image Datasets/Medicinal Leaf dataset/Sampige'.\n",
            "There are 0 directories and 118 images in 'Indian Medicinal Leaves Image Datasets/Medicinal Leaf dataset/Bamboo'.\n",
            "There are 0 directories and 73 images in 'Indian Medicinal Leaves Image Datasets/Medicinal Leaf dataset/Padri'.\n",
            "There are 0 directories and 82 images in 'Indian Medicinal Leaves Image Datasets/Medicinal Leaf dataset/Ginger'.\n",
            "There are 0 directories and 69 images in 'Indian Medicinal Leaves Image Datasets/Medicinal Leaf dataset/Taro'.\n",
            "There are 0 directories and 62 images in 'Indian Medicinal Leaves Image Datasets/Medicinal Leaf dataset/Nerale'.\n",
            "There are 0 directories and 81 images in 'Indian Medicinal Leaves Image Datasets/Medicinal Leaf dataset/Globe Amarnath'.\n",
            "There are 0 directories and 79 images in 'Indian Medicinal Leaves Image Datasets/Medicinal Leaf dataset/Malabar_Spinach'.\n",
            "There are 0 directories and 80 images in 'Indian Medicinal Leaves Image Datasets/Medicinal Leaf dataset/Eucalyptus'.\n",
            "There are 0 directories and 74 images in 'Indian Medicinal Leaves Image Datasets/Medicinal Leaf dataset/Thumbe'.\n",
            "There are 0 directories and 83 images in 'Indian Medicinal Leaves Image Datasets/Medicinal Leaf dataset/Coffee'.\n",
            "There are 0 directories and 76 images in 'Indian Medicinal Leaves Image Datasets/Medicinal Leaf dataset/Caricature'.\n",
            "There are 0 directories and 149 images in 'Indian Medicinal Leaves Image Datasets/Medicinal Leaf dataset/Palak(Spinach)'.\n",
            "There are 0 directories and 129 images in 'Indian Medicinal Leaves Image Datasets/Medicinal Leaf dataset/Castor'.\n",
            "There are 0 directories and 51 images in 'Indian Medicinal Leaves Image Datasets/Medicinal Leaf dataset/Malabar_Nut'.\n",
            "There are 0 directories and 118 images in 'Indian Medicinal Leaves Image Datasets/Medicinal Leaf dataset/Aloevera'.\n",
            "There are 0 directories and 63 images in 'Indian Medicinal Leaves Image Datasets/Medicinal Leaf dataset/Ganike'.\n",
            "There are 0 directories and 73 images in 'Indian Medicinal Leaves Image Datasets/Medicinal Leaf dataset/Kohlrabi'.\n",
            "There are 0 directories and 61 images in 'Indian Medicinal Leaves Image Datasets/Medicinal Leaf dataset/Balloon_Vine'.\n",
            "There are 0 directories and 66 images in 'Indian Medicinal Leaves Image Datasets/Medicinal Leaf dataset/camphor'.\n",
            "There are 0 directories and 69 images in 'Indian Medicinal Leaves Image Datasets/Medicinal Leaf dataset/Tecoma'.\n",
            "There are 0 directories and 176 images in 'Indian Medicinal Leaves Image Datasets/Medicinal Leaf dataset/Tamarind'.\n",
            "There are 0 directories and 8 images in 'Indian Medicinal Leaves Image Datasets/Medicinal Leaf dataset/Lemongrass'.\n",
            "There are 0 directories and 81 images in 'Indian Medicinal Leaves Image Datasets/Medicinal Leaf dataset/Ekka'.\n",
            "There are 0 directories and 93 images in 'Indian Medicinal Leaves Image Datasets/Medicinal Leaf dataset/Marigold'.\n",
            "There are 0 directories and 91 images in 'Indian Medicinal Leaves Image Datasets/Medicinal Leaf dataset/Amruthaballi'.\n",
            "There are 0 directories and 103 images in 'Indian Medicinal Leaves Image Datasets/Medicinal Leaf dataset/Mango'.\n",
            "There are 0 directories and 70 images in 'Indian Medicinal Leaves Image Datasets/Medicinal Leaf dataset/Spinach1'.\n",
            "There are 0 directories and 99 images in 'Indian Medicinal Leaves Image Datasets/Medicinal Leaf dataset/Citron lime (herelikai)'.\n",
            "There are 0 directories and 97 images in 'Indian Medicinal Leaves Image Datasets/Medicinal Leaf dataset/Beans'.\n",
            "There are 0 directories and 134 images in 'Indian Medicinal Leaves Image Datasets/Medicinal Leaf dataset/Catharanthus'.\n",
            "There are 0 directories and 56 images in 'Indian Medicinal Leaves Image Datasets/Medicinal Leaf dataset/Drumstick'.\n",
            "There are 0 directories and 142 images in 'Indian Medicinal Leaves Image Datasets/Medicinal Leaf dataset/Doddpathre'.\n",
            "There are 0 directories and 177 images in 'Indian Medicinal Leaves Image Datasets/Medicinal Leaf dataset/Tulsi'.\n",
            "There are 0 directories and 168 images in 'Indian Medicinal Leaves Image Datasets/Medicinal Leaf dataset/Curry'.\n",
            "There are 0 directories and 72 images in 'Indian Medicinal Leaves Image Datasets/Medicinal Leaf dataset/Nooni'.\n",
            "There are 0 directories and 47 images in 'Indian Medicinal Leaves Image Datasets/Medicinal Leaf dataset/Seethaashoka'.\n",
            "There are 0 directories and 106 images in 'Indian Medicinal Leaves Image Datasets/Medicinal Leaf dataset/Rose'.\n",
            "There are 0 directories and 114 images in 'Indian Medicinal Leaves Image Datasets/Medicinal Leaf dataset/Betel'.\n",
            "There are 0 directories and 81 images in 'Indian Medicinal Leaves Image Datasets/Medicinal Leaf dataset/ashoka'.\n",
            "There are 0 directories and 68 images in 'Indian Medicinal Leaves Image Datasets/Medicinal Leaf dataset/Chakte'.\n",
            "There are 0 directories and 114 images in 'Indian Medicinal Leaves Image Datasets/Medicinal Leaf dataset/Seethapala'.\n",
            "There are 0 directories and 113 images in 'Indian Medicinal Leaves Image Datasets/Medicinal Leaf dataset/Honge'.\n",
            "There are 0 directories and 89 images in 'Indian Medicinal Leaves Image Datasets/Medicinal Leaf dataset/Insulin'.\n",
            "There are 0 directories and 76 images in 'Indian Medicinal Leaves Image Datasets/Medicinal Leaf dataset/kepala'.\n"
          ]
        }
      ],
      "source": [
        "\n",
        "for dirpath,dirnames,filenames in os.walk(\"Indian Medicinal Leaves Image Datasets\"):\n",
        "  print(f\"There are {len(dirnames)} directories and {len(filenames)} images in '{dirpath}'.\")"
      ]
    },
    {
      "cell_type": "markdown",
      "metadata": {
        "id": "uSHQr0hD7Usi"
      },
      "source": [
        "#View Random Image"
      ]
    },
    {
      "cell_type": "code",
      "execution_count": null,
      "metadata": {
        "id": "j51fLsJN4f0D"
      },
      "outputs": [],
      "source": [
        "#view an image\n",
        "\n",
        "\n",
        "def view_random_image(target_dir,target_class):\n",
        "  target_folder=target_dir+target_class\n",
        "  random_image=random.sample(os.listdir(target_folder),1)\n",
        "  img=mpimg.imread(target_folder +\"/\" + random_image[0])\n",
        "  plt.imshow(img)\n",
        "  plt.title(target_class)\n",
        "  plt.axis(\"off\")\n",
        "\n",
        "  print(img.shape)\n",
        "  return img"
      ]
    },
    {
      "cell_type": "markdown",
      "metadata": {
        "id": "H6UMR-c47W5j"
      },
      "source": [
        "#Creating train-test-valid split"
      ]
    },
    {
      "cell_type": "code",
      "execution_count": 4,
      "metadata": {
        "colab": {
          "base_uri": "https://localhost:8080/"
        },
        "id": "kd0jFCJE5KP2",
        "outputId": "318a9624-9ca8-4c9f-d5b8-32931cc2384a"
      },
      "outputs": [
        {
          "output_type": "stream",
          "name": "stderr",
          "text": [
            "Copying files: 6904 files [01:26, 79.87 files/s]\n"
          ]
        }
      ],
      "source": [
        "path_leaves=\"/content/Medicinal Leaf dataset\"\n",
        "splitfolders.ratio(path_leaves,seed=1337, output=\"(Splitted)Indian Medicininal Leaves Dataset\", ratio=(0.6, 0.2, 0.2))"
      ]
    },
    {
      "cell_type": "markdown",
      "metadata": {
        "id": "ZOMQ8JFx7bIj"
      },
      "source": [
        "#Storing class names in class_names_leaves"
      ]
    },
    {
      "cell_type": "code",
      "execution_count": 5,
      "metadata": {
        "colab": {
          "base_uri": "https://localhost:8080/"
        },
        "id": "o8GMx1kc5Nek",
        "outputId": "db23499d-023a-4ea9-a958-7afb1d0325de"
      },
      "outputs": [
        {
          "output_type": "stream",
          "name": "stdout",
          "text": [
            "['Aloevera' 'Amla' 'Amruthaballi' 'Arali' 'Astma_weed' 'Badipala'\n",
            " 'Balloon_Vine' 'Bamboo' 'Beans' 'Betel' 'Bhrami' 'Bringaraja'\n",
            " 'Caricature' 'Castor' 'Catharanthus' 'Chakte' 'Chilly'\n",
            " 'Citron lime (herelikai)' 'Coffee' 'Common rue(naagdalli)' 'Coriender'\n",
            " 'Curry' 'Doddpathre' 'Drumstick' 'Ekka' 'Eucalyptus' 'Ganigale' 'Ganike'\n",
            " 'Gasagase' 'Ginger' 'Globe Amarnath' 'Guava' 'Henna' 'Hibiscus' 'Honge'\n",
            " 'Insulin' 'Jackfruit' 'Jasmine' 'Kambajala' 'Kasambruga' 'Kohlrabi'\n",
            " 'Lantana' 'Lemon' 'Lemongrass' 'Malabar_Nut' 'Malabar_Spinach' 'Mango'\n",
            " 'Marigold' 'Mint' 'Neem' 'Nelavembu' 'Nerale' 'Nooni' 'Onion' 'Padri'\n",
            " 'Palak(Spinach)' 'Papaya' 'Parijatha' 'Pea' 'Pepper' 'Pomoegranate'\n",
            " 'Pumpkin' 'Raddish' 'Rose' 'Sampige' 'Sapota' 'Seethaashoka' 'Seethapala'\n",
            " 'Spinach1' 'Tamarind' 'Taro' 'Tecoma' 'Thumbe' 'Tomato' 'Tulsi'\n",
            " 'Turmeric' 'ashoka' 'camphor' 'kamakasturi' 'kepala']\n"
          ]
        }
      ],
      "source": [
        "import pathlib\n",
        "import numpy as np\n",
        "data_dir_leaves = pathlib.Path(\"/content/(Splitted)Indian Medicininal Leaves Dataset/train\") # turn our training path into a Python path\n",
        "class_names_leaves = np.array(sorted([item.name for item in data_dir_leaves.glob('*')])) # created a list of class_names from the subdirectories\n",
        "print(class_names_leaves)"
      ]
    },
    {
      "cell_type": "markdown",
      "source": [
        "#Mounting the Google drive\n"
      ],
      "metadata": {
        "id": "omRzy3hOzXGb"
      }
    },
    {
      "cell_type": "code",
      "source": [
        "from google.colab import drive\n",
        "drive.mount('/content/gdrive')"
      ],
      "metadata": {
        "colab": {
          "base_uri": "https://localhost:8080/"
        },
        "id": "eUIix6xYWwrh",
        "outputId": "3d278487-c3c5-4127-cf64-e56a54ba2f30"
      },
      "execution_count": 40,
      "outputs": [
        {
          "output_type": "stream",
          "name": "stdout",
          "text": [
            "Mounted at /content/gdrive\n"
          ]
        }
      ]
    },
    {
      "cell_type": "code",
      "execution_count": null,
      "metadata": {
        "colab": {
          "base_uri": "https://localhost:8080/"
        },
        "id": "H6uw8gu_5PuY",
        "outputId": "8baaeeda-4420-4498-d223-b4b78e470033"
      },
      "outputs": [
        {
          "output_type": "execute_result",
          "data": {
            "text/plain": [
              "80"
            ]
          },
          "metadata": {},
          "execution_count": 8
        }
      ],
      "source": [
        "len(class_names_leaves)"
      ]
    },
    {
      "cell_type": "markdown",
      "metadata": {
        "id": "-rz9TLn_7uuC"
      },
      "source": [
        "#Model Checkpoint"
      ]
    },
    {
      "cell_type": "code",
      "execution_count": 11,
      "metadata": {
        "id": "HsbJwLbt5gda"
      },
      "outputs": [],
      "source": [
        "checkpoint_path = \"model_checkpoints/cp.ckpt\" # saving weights requires \".ckpt\" extension\n",
        "model_checkpoint = tf.keras.callbacks.ModelCheckpoint(checkpoint_path,\n",
        "                                                      monitor=\"val_accuracy\", # save the model weights with best validation accuracy\n",
        "                                                      save_best_only=True, # only save the best weights\n",
        "                                                      save_weights_only=True, # only save model weights (not whole model)\n",
        "                                                      verbose=0)"
      ]
    },
    {
      "cell_type": "markdown",
      "source": [
        "#Experiment 1"
      ],
      "metadata": {
        "id": "gb2NJaCcaUzO"
      }
    },
    {
      "cell_type": "markdown",
      "metadata": {
        "id": "4HxLIGUB7lgS"
      },
      "source": [
        "##Data augmentation using ImageDataGenerator"
      ]
    },
    {
      "cell_type": "code",
      "execution_count": null,
      "metadata": {
        "colab": {
          "base_uri": "https://localhost:8080/"
        },
        "id": "aL0VvkCp5ZhV",
        "outputId": "d84185d4-af38-4b43-e875-939e3b3553b3"
      },
      "outputs": [
        {
          "output_type": "stream",
          "name": "stdout",
          "text": [
            "Found 4106 images belonging to 80 classes.\n",
            "Found 1448 images belonging to 80 classes.\n",
            "Found 1346 images belonging to 80 classes.\n"
          ]
        }
      ],
      "source": [
        "from numpy.ma.core import true_divide\n",
        "from tensorflow.keras.preprocessing.image import ImageDataGenerator\n",
        "\n",
        "# Rescale the data and create data generator instances\n",
        "train_datagen = ImageDataGenerator(rescale=1/255.,\n",
        "                                   width_shift_range=0.2,\n",
        "                                   zoom_range=0.2,\n",
        "                                   height_shift_range=0.2,\n",
        "                                   shear_range=0.2,\n",
        "                                   horizontal_flip=True,\n",
        "                                   vertical_flip=True,\n",
        "                                   rotation_range=0.2)\n",
        "test_datagen = ImageDataGenerator(rescale=1/255.)\n",
        "valid_datagen=ImageDataGenerator(rescale=1/255.)\n",
        "train_dir=\"/content/(Splitted)Indian Medicininal Leaves Dataset/train\"\n",
        "test_dir=\"/content/(Splitted)Indian Medicininal Leaves Dataset/test\"\n",
        "valid_dir=\"/content/(Splitted)Indian Medicininal Leaves Dataset/val\"\n",
        "\n",
        "IMAGE_SHAPE=(600,450)\n",
        "# Load data in from directories and turn it into batches\n",
        "train_data_leaves = train_datagen.flow_from_directory(train_dir,\n",
        "                                               target_size=IMAGE_SHAPE,\n",
        "                                               batch_size=32,\n",
        "                                               class_mode='categorical') # changed to categorical\n",
        "\n",
        "test_data_leaves = train_datagen.flow_from_directory(test_dir,\n",
        "                                              target_size=IMAGE_SHAPE,\n",
        "                                              batch_size=32,\n",
        "                                              class_mode='categorical')\n",
        "valid_data_leaves=valid_datagen.flow_from_directory(valid_dir,\n",
        "                                         target_size=IMAGE_SHAPE,\n",
        "                                         batch_size=32,\n",
        "                                         class_mode='categorical')"
      ]
    },
    {
      "cell_type": "markdown",
      "metadata": {
        "id": "1DxRjUgK7qAy"
      },
      "source": [
        "##Tensorboard callback"
      ]
    },
    {
      "cell_type": "code",
      "execution_count": null,
      "metadata": {
        "id": "faqlvS6v5etb"
      },
      "outputs": [],
      "source": [
        "import datetime\n",
        "def create_tensorboard_callback(dir_name,experiment_name):\n",
        "  log_dir=dir_name+\"/\" +experiment_name+\"/\"+datetime.datetime.now().strftime(\"%Y%m%d-%H%M%S\")\n",
        "  tensorboard_callback=tf.keras.callbacks.Tensorboard(\n",
        "      log_dir=log_dir\n",
        "  )\n",
        "  print(f\"Saving tensorboard log files to :{log_dir}\")\n",
        "  return tensorboard_callback"
      ]
    },
    {
      "cell_type": "markdown",
      "metadata": {
        "id": "ZUqMgyfU8BBr"
      },
      "source": [
        "##Resnet_url"
      ]
    },
    {
      "cell_type": "code",
      "execution_count": null,
      "metadata": {
        "id": "3G7a9Bdo5iZf"
      },
      "outputs": [],
      "source": [
        "resnet_url = \"https://tfhub.dev/google/imagenet/resnet_v2_50/feature_vector/4\"\n"
      ]
    },
    {
      "cell_type": "markdown",
      "metadata": {
        "id": "pSRosMpJ8FAz"
      },
      "source": [
        "##Create_model"
      ]
    },
    {
      "cell_type": "code",
      "execution_count": null,
      "metadata": {
        "id": "oOyldK3C6jDk"
      },
      "outputs": [],
      "source": [
        "def create_model(model_url, num_classes=80):\n",
        "  \"\"\"Takes a TensorFlow Hub URL and creates a Keras Sequential model with it.\n",
        "\n",
        "  Args:\n",
        "    model_url (str): A TensorFlow Hub feature extraction URL.\n",
        "    num_classes (int): Number of output neurons in output layer,\n",
        "      should be equal to number of target classes, default 10.\n",
        "\n",
        "  Returns:\n",
        "    An uncompiled Keras Sequential model with model_url as feature\n",
        "    extractor layer and Dense output layer with num_classes outputs.\n",
        "  \"\"\"\n",
        "  # Download the pretrained model and save it as a Keras layer\n",
        "  feature_extractor_layer = hub.KerasLayer(model_url,\n",
        "                                           trainable=False, # freeze the underlying patterns\n",
        "                                           name='feature_extraction_layer',\n",
        "                                           input_shape=IMAGE_SHAPE+(3,)) # define the input image shape\n",
        "\n",
        "  # Create our own model\n",
        "  model = tf.keras.Sequential([\n",
        "    feature_extractor_layer, # use the feature extraction layer as the base\n",
        "    Dropout(0.2),\n",
        "    Dense(num_classes, activation='softmax', name='output_layer') # create our own output layer\n",
        "  ])\n",
        "\n",
        "  return model"
      ]
    },
    {
      "cell_type": "markdown",
      "metadata": {
        "id": "eEoNZJ3F8Llz"
      },
      "source": [
        "##Compiling the model"
      ]
    },
    {
      "cell_type": "code",
      "execution_count": null,
      "metadata": {
        "id": "zV3x_wYV6lKg"
      },
      "outputs": [],
      "source": [
        "resnet_model = create_model(resnet_url, num_classes=80)\n",
        "\n",
        "# Compile\n",
        "resnet_model.compile(loss='categorical_crossentropy',\n",
        "                     optimizer=tf.keras.optimizers.Adam(),\n",
        "                     metrics=['accuracy'])"
      ]
    },
    {
      "cell_type": "markdown",
      "metadata": {
        "id": "93hvFmZU8Nl7"
      },
      "source": [
        "##Fitting the model"
      ]
    },
    {
      "cell_type": "code",
      "execution_count": null,
      "metadata": {
        "colab": {
          "base_uri": "https://localhost:8080/",
          "height": 425
        },
        "id": "mqCqsutj6ns3",
        "outputId": "fbb64edb-ad83-44a6-c292-c7d2a34c8581"
      },
      "outputs": [
        {
          "output_type": "stream",
          "name": "stdout",
          "text": [
            "Epoch 1/5\n"
          ]
        },
        {
          "output_type": "error",
          "ename": "KeyboardInterrupt",
          "evalue": "ignored",
          "traceback": [
            "\u001b[0;31m---------------------------------------------------------------------------\u001b[0m",
            "\u001b[0;31mKeyboardInterrupt\u001b[0m                         Traceback (most recent call last)",
            "\u001b[0;32m<ipython-input-33-5cbf969c6479>\u001b[0m in \u001b[0;36m<cell line: 1>\u001b[0;34m()\u001b[0m\n\u001b[0;32m----> 1\u001b[0;31m resnet_history = resnet_model.fit(train_data_leaves,\n\u001b[0m\u001b[1;32m      2\u001b[0m                                   \u001b[0mepochs\u001b[0m\u001b[0;34m=\u001b[0m\u001b[0;36m5\u001b[0m\u001b[0;34m,\u001b[0m\u001b[0;34m\u001b[0m\u001b[0;34m\u001b[0m\u001b[0m\n\u001b[1;32m      3\u001b[0m                                   \u001b[0msteps_per_epoch\u001b[0m\u001b[0;34m=\u001b[0m\u001b[0mlen\u001b[0m\u001b[0;34m(\u001b[0m\u001b[0mtrain_data_leaves\u001b[0m\u001b[0;34m)\u001b[0m\u001b[0;34m,\u001b[0m\u001b[0;34m\u001b[0m\u001b[0;34m\u001b[0m\u001b[0m\n\u001b[1;32m      4\u001b[0m                                   \u001b[0mvalidation_data\u001b[0m\u001b[0;34m=\u001b[0m\u001b[0mtest_data_leaves\u001b[0m\u001b[0;34m,\u001b[0m\u001b[0;34m\u001b[0m\u001b[0;34m\u001b[0m\u001b[0m\n\u001b[1;32m      5\u001b[0m                                   \u001b[0mvalidation_steps\u001b[0m\u001b[0;34m=\u001b[0m\u001b[0mlen\u001b[0m\u001b[0;34m(\u001b[0m\u001b[0mtest_data_leaves\u001b[0m\u001b[0;34m)\u001b[0m\u001b[0;34m,\u001b[0m\u001b[0;34m\u001b[0m\u001b[0;34m\u001b[0m\u001b[0m\n",
            "\u001b[0;32m/usr/local/lib/python3.10/dist-packages/keras/src/utils/traceback_utils.py\u001b[0m in \u001b[0;36merror_handler\u001b[0;34m(*args, **kwargs)\u001b[0m\n\u001b[1;32m     63\u001b[0m         \u001b[0mfiltered_tb\u001b[0m \u001b[0;34m=\u001b[0m \u001b[0;32mNone\u001b[0m\u001b[0;34m\u001b[0m\u001b[0;34m\u001b[0m\u001b[0m\n\u001b[1;32m     64\u001b[0m         \u001b[0;32mtry\u001b[0m\u001b[0;34m:\u001b[0m\u001b[0;34m\u001b[0m\u001b[0;34m\u001b[0m\u001b[0m\n\u001b[0;32m---> 65\u001b[0;31m             \u001b[0;32mreturn\u001b[0m \u001b[0mfn\u001b[0m\u001b[0;34m(\u001b[0m\u001b[0;34m*\u001b[0m\u001b[0margs\u001b[0m\u001b[0;34m,\u001b[0m \u001b[0;34m**\u001b[0m\u001b[0mkwargs\u001b[0m\u001b[0;34m)\u001b[0m\u001b[0;34m\u001b[0m\u001b[0;34m\u001b[0m\u001b[0m\n\u001b[0m\u001b[1;32m     66\u001b[0m         \u001b[0;32mexcept\u001b[0m \u001b[0mException\u001b[0m \u001b[0;32mas\u001b[0m \u001b[0me\u001b[0m\u001b[0;34m:\u001b[0m\u001b[0;34m\u001b[0m\u001b[0;34m\u001b[0m\u001b[0m\n\u001b[1;32m     67\u001b[0m             \u001b[0mfiltered_tb\u001b[0m \u001b[0;34m=\u001b[0m \u001b[0m_process_traceback_frames\u001b[0m\u001b[0;34m(\u001b[0m\u001b[0me\u001b[0m\u001b[0;34m.\u001b[0m\u001b[0m__traceback__\u001b[0m\u001b[0;34m)\u001b[0m\u001b[0;34m\u001b[0m\u001b[0;34m\u001b[0m\u001b[0m\n",
            "\u001b[0;32m/usr/local/lib/python3.10/dist-packages/keras/src/engine/training.py\u001b[0m in \u001b[0;36mfit\u001b[0;34m(self, x, y, batch_size, epochs, verbose, callbacks, validation_split, validation_data, shuffle, class_weight, sample_weight, initial_epoch, steps_per_epoch, validation_steps, validation_batch_size, validation_freq, max_queue_size, workers, use_multiprocessing)\u001b[0m\n\u001b[1;32m   1740\u001b[0m                         ):\n\u001b[1;32m   1741\u001b[0m                             \u001b[0mcallbacks\u001b[0m\u001b[0;34m.\u001b[0m\u001b[0mon_train_batch_begin\u001b[0m\u001b[0;34m(\u001b[0m\u001b[0mstep\u001b[0m\u001b[0;34m)\u001b[0m\u001b[0;34m\u001b[0m\u001b[0;34m\u001b[0m\u001b[0m\n\u001b[0;32m-> 1742\u001b[0;31m                             \u001b[0mtmp_logs\u001b[0m \u001b[0;34m=\u001b[0m \u001b[0mself\u001b[0m\u001b[0;34m.\u001b[0m\u001b[0mtrain_function\u001b[0m\u001b[0;34m(\u001b[0m\u001b[0miterator\u001b[0m\u001b[0;34m)\u001b[0m\u001b[0;34m\u001b[0m\u001b[0;34m\u001b[0m\u001b[0m\n\u001b[0m\u001b[1;32m   1743\u001b[0m                             \u001b[0;32mif\u001b[0m \u001b[0mdata_handler\u001b[0m\u001b[0;34m.\u001b[0m\u001b[0mshould_sync\u001b[0m\u001b[0;34m:\u001b[0m\u001b[0;34m\u001b[0m\u001b[0;34m\u001b[0m\u001b[0m\n\u001b[1;32m   1744\u001b[0m                                 \u001b[0mcontext\u001b[0m\u001b[0;34m.\u001b[0m\u001b[0masync_wait\u001b[0m\u001b[0;34m(\u001b[0m\u001b[0;34m)\u001b[0m\u001b[0;34m\u001b[0m\u001b[0;34m\u001b[0m\u001b[0m\n",
            "\u001b[0;32m/usr/local/lib/python3.10/dist-packages/tensorflow/python/util/traceback_utils.py\u001b[0m in \u001b[0;36merror_handler\u001b[0;34m(*args, **kwargs)\u001b[0m\n\u001b[1;32m    148\u001b[0m     \u001b[0mfiltered_tb\u001b[0m \u001b[0;34m=\u001b[0m \u001b[0;32mNone\u001b[0m\u001b[0;34m\u001b[0m\u001b[0;34m\u001b[0m\u001b[0m\n\u001b[1;32m    149\u001b[0m     \u001b[0;32mtry\u001b[0m\u001b[0;34m:\u001b[0m\u001b[0;34m\u001b[0m\u001b[0;34m\u001b[0m\u001b[0m\n\u001b[0;32m--> 150\u001b[0;31m       \u001b[0;32mreturn\u001b[0m \u001b[0mfn\u001b[0m\u001b[0;34m(\u001b[0m\u001b[0;34m*\u001b[0m\u001b[0margs\u001b[0m\u001b[0;34m,\u001b[0m \u001b[0;34m**\u001b[0m\u001b[0mkwargs\u001b[0m\u001b[0;34m)\u001b[0m\u001b[0;34m\u001b[0m\u001b[0;34m\u001b[0m\u001b[0m\n\u001b[0m\u001b[1;32m    151\u001b[0m     \u001b[0;32mexcept\u001b[0m \u001b[0mException\u001b[0m \u001b[0;32mas\u001b[0m \u001b[0me\u001b[0m\u001b[0;34m:\u001b[0m\u001b[0;34m\u001b[0m\u001b[0;34m\u001b[0m\u001b[0m\n\u001b[1;32m    152\u001b[0m       \u001b[0mfiltered_tb\u001b[0m \u001b[0;34m=\u001b[0m \u001b[0m_process_traceback_frames\u001b[0m\u001b[0;34m(\u001b[0m\u001b[0me\u001b[0m\u001b[0;34m.\u001b[0m\u001b[0m__traceback__\u001b[0m\u001b[0;34m)\u001b[0m\u001b[0;34m\u001b[0m\u001b[0;34m\u001b[0m\u001b[0m\n",
            "\u001b[0;32m/usr/local/lib/python3.10/dist-packages/tensorflow/python/eager/polymorphic_function/polymorphic_function.py\u001b[0m in \u001b[0;36m__call__\u001b[0;34m(self, *args, **kwds)\u001b[0m\n\u001b[1;32m    823\u001b[0m \u001b[0;34m\u001b[0m\u001b[0m\n\u001b[1;32m    824\u001b[0m       \u001b[0;32mwith\u001b[0m \u001b[0mOptionalXlaContext\u001b[0m\u001b[0;34m(\u001b[0m\u001b[0mself\u001b[0m\u001b[0;34m.\u001b[0m\u001b[0m_jit_compile\u001b[0m\u001b[0;34m)\u001b[0m\u001b[0;34m:\u001b[0m\u001b[0;34m\u001b[0m\u001b[0;34m\u001b[0m\u001b[0m\n\u001b[0;32m--> 825\u001b[0;31m         \u001b[0mresult\u001b[0m \u001b[0;34m=\u001b[0m \u001b[0mself\u001b[0m\u001b[0;34m.\u001b[0m\u001b[0m_call\u001b[0m\u001b[0;34m(\u001b[0m\u001b[0;34m*\u001b[0m\u001b[0margs\u001b[0m\u001b[0;34m,\u001b[0m \u001b[0;34m**\u001b[0m\u001b[0mkwds\u001b[0m\u001b[0;34m)\u001b[0m\u001b[0;34m\u001b[0m\u001b[0;34m\u001b[0m\u001b[0m\n\u001b[0m\u001b[1;32m    826\u001b[0m \u001b[0;34m\u001b[0m\u001b[0m\n\u001b[1;32m    827\u001b[0m       \u001b[0mnew_tracing_count\u001b[0m \u001b[0;34m=\u001b[0m \u001b[0mself\u001b[0m\u001b[0;34m.\u001b[0m\u001b[0mexperimental_get_tracing_count\u001b[0m\u001b[0;34m(\u001b[0m\u001b[0;34m)\u001b[0m\u001b[0;34m\u001b[0m\u001b[0;34m\u001b[0m\u001b[0m\n",
            "\u001b[0;32m/usr/local/lib/python3.10/dist-packages/tensorflow/python/eager/polymorphic_function/polymorphic_function.py\u001b[0m in \u001b[0;36m_call\u001b[0;34m(self, *args, **kwds)\u001b[0m\n\u001b[1;32m    855\u001b[0m       \u001b[0;31m# In this case we have created variables on the first call, so we run the\u001b[0m\u001b[0;34m\u001b[0m\u001b[0;34m\u001b[0m\u001b[0m\n\u001b[1;32m    856\u001b[0m       \u001b[0;31m# defunned version which is guaranteed to never create variables.\u001b[0m\u001b[0;34m\u001b[0m\u001b[0;34m\u001b[0m\u001b[0m\n\u001b[0;32m--> 857\u001b[0;31m       \u001b[0;32mreturn\u001b[0m \u001b[0mself\u001b[0m\u001b[0;34m.\u001b[0m\u001b[0m_no_variable_creation_fn\u001b[0m\u001b[0;34m(\u001b[0m\u001b[0;34m*\u001b[0m\u001b[0margs\u001b[0m\u001b[0;34m,\u001b[0m \u001b[0;34m**\u001b[0m\u001b[0mkwds\u001b[0m\u001b[0;34m)\u001b[0m  \u001b[0;31m# pylint: disable=not-callable\u001b[0m\u001b[0;34m\u001b[0m\u001b[0;34m\u001b[0m\u001b[0m\n\u001b[0m\u001b[1;32m    858\u001b[0m     \u001b[0;32melif\u001b[0m \u001b[0mself\u001b[0m\u001b[0;34m.\u001b[0m\u001b[0m_variable_creation_fn\u001b[0m \u001b[0;32mis\u001b[0m \u001b[0;32mnot\u001b[0m \u001b[0;32mNone\u001b[0m\u001b[0;34m:\u001b[0m\u001b[0;34m\u001b[0m\u001b[0;34m\u001b[0m\u001b[0m\n\u001b[1;32m    859\u001b[0m       \u001b[0;31m# Release the lock early so that multiple threads can perform the call\u001b[0m\u001b[0;34m\u001b[0m\u001b[0;34m\u001b[0m\u001b[0m\n",
            "\u001b[0;32m/usr/local/lib/python3.10/dist-packages/tensorflow/python/eager/polymorphic_function/tracing_compiler.py\u001b[0m in \u001b[0;36m__call__\u001b[0;34m(self, *args, **kwargs)\u001b[0m\n\u001b[1;32m    146\u001b[0m       (concrete_function,\n\u001b[1;32m    147\u001b[0m        filtered_flat_args) = self._maybe_define_function(args, kwargs)\n\u001b[0;32m--> 148\u001b[0;31m     return concrete_function._call_flat(\n\u001b[0m\u001b[1;32m    149\u001b[0m         filtered_flat_args, captured_inputs=concrete_function.captured_inputs)  # pylint: disable=protected-access\n\u001b[1;32m    150\u001b[0m \u001b[0;34m\u001b[0m\u001b[0m\n",
            "\u001b[0;32m/usr/local/lib/python3.10/dist-packages/tensorflow/python/eager/polymorphic_function/monomorphic_function.py\u001b[0m in \u001b[0;36m_call_flat\u001b[0;34m(self, args, captured_inputs)\u001b[0m\n\u001b[1;32m   1347\u001b[0m         and executing_eagerly):\n\u001b[1;32m   1348\u001b[0m       \u001b[0;31m# No tape is watching; skip to running the function.\u001b[0m\u001b[0;34m\u001b[0m\u001b[0;34m\u001b[0m\u001b[0m\n\u001b[0;32m-> 1349\u001b[0;31m       \u001b[0;32mreturn\u001b[0m \u001b[0mself\u001b[0m\u001b[0;34m.\u001b[0m\u001b[0m_build_call_outputs\u001b[0m\u001b[0;34m(\u001b[0m\u001b[0mself\u001b[0m\u001b[0;34m.\u001b[0m\u001b[0m_inference_function\u001b[0m\u001b[0;34m(\u001b[0m\u001b[0;34m*\u001b[0m\u001b[0margs\u001b[0m\u001b[0;34m)\u001b[0m\u001b[0;34m)\u001b[0m\u001b[0;34m\u001b[0m\u001b[0;34m\u001b[0m\u001b[0m\n\u001b[0m\u001b[1;32m   1350\u001b[0m     forward_backward = self._select_forward_and_backward_functions(\n\u001b[1;32m   1351\u001b[0m         \u001b[0margs\u001b[0m\u001b[0;34m,\u001b[0m\u001b[0;34m\u001b[0m\u001b[0;34m\u001b[0m\u001b[0m\n",
            "\u001b[0;32m/usr/local/lib/python3.10/dist-packages/tensorflow/python/eager/polymorphic_function/atomic_function.py\u001b[0m in \u001b[0;36m__call__\u001b[0;34m(self, *args)\u001b[0m\n\u001b[1;32m    194\u001b[0m         \u001b[0;32mwith\u001b[0m \u001b[0mrecord\u001b[0m\u001b[0;34m.\u001b[0m\u001b[0mstop_recording\u001b[0m\u001b[0;34m(\u001b[0m\u001b[0;34m)\u001b[0m\u001b[0;34m:\u001b[0m\u001b[0;34m\u001b[0m\u001b[0;34m\u001b[0m\u001b[0m\n\u001b[1;32m    195\u001b[0m           \u001b[0;32mif\u001b[0m \u001b[0mself\u001b[0m\u001b[0;34m.\u001b[0m\u001b[0m_bound_context\u001b[0m\u001b[0;34m.\u001b[0m\u001b[0mexecuting_eagerly\u001b[0m\u001b[0;34m(\u001b[0m\u001b[0;34m)\u001b[0m\u001b[0;34m:\u001b[0m\u001b[0;34m\u001b[0m\u001b[0;34m\u001b[0m\u001b[0m\n\u001b[0;32m--> 196\u001b[0;31m             outputs = self._bound_context.call_function(\n\u001b[0m\u001b[1;32m    197\u001b[0m                 \u001b[0mself\u001b[0m\u001b[0;34m.\u001b[0m\u001b[0mname\u001b[0m\u001b[0;34m,\u001b[0m\u001b[0;34m\u001b[0m\u001b[0;34m\u001b[0m\u001b[0m\n\u001b[1;32m    198\u001b[0m                 \u001b[0mlist\u001b[0m\u001b[0;34m(\u001b[0m\u001b[0margs\u001b[0m\u001b[0;34m)\u001b[0m\u001b[0;34m,\u001b[0m\u001b[0;34m\u001b[0m\u001b[0;34m\u001b[0m\u001b[0m\n",
            "\u001b[0;32m/usr/local/lib/python3.10/dist-packages/tensorflow/python/eager/context.py\u001b[0m in \u001b[0;36mcall_function\u001b[0;34m(self, name, tensor_inputs, num_outputs)\u001b[0m\n\u001b[1;32m   1455\u001b[0m     \u001b[0mcancellation_context\u001b[0m \u001b[0;34m=\u001b[0m \u001b[0mcancellation\u001b[0m\u001b[0;34m.\u001b[0m\u001b[0mcontext\u001b[0m\u001b[0;34m(\u001b[0m\u001b[0;34m)\u001b[0m\u001b[0;34m\u001b[0m\u001b[0;34m\u001b[0m\u001b[0m\n\u001b[1;32m   1456\u001b[0m     \u001b[0;32mif\u001b[0m \u001b[0mcancellation_context\u001b[0m \u001b[0;32mis\u001b[0m \u001b[0;32mNone\u001b[0m\u001b[0;34m:\u001b[0m\u001b[0;34m\u001b[0m\u001b[0;34m\u001b[0m\u001b[0m\n\u001b[0;32m-> 1457\u001b[0;31m       outputs = execute.execute(\n\u001b[0m\u001b[1;32m   1458\u001b[0m           \u001b[0mname\u001b[0m\u001b[0;34m.\u001b[0m\u001b[0mdecode\u001b[0m\u001b[0;34m(\u001b[0m\u001b[0;34m\"utf-8\"\u001b[0m\u001b[0;34m)\u001b[0m\u001b[0;34m,\u001b[0m\u001b[0;34m\u001b[0m\u001b[0;34m\u001b[0m\u001b[0m\n\u001b[1;32m   1459\u001b[0m           \u001b[0mnum_outputs\u001b[0m\u001b[0;34m=\u001b[0m\u001b[0mnum_outputs\u001b[0m\u001b[0;34m,\u001b[0m\u001b[0;34m\u001b[0m\u001b[0;34m\u001b[0m\u001b[0m\n",
            "\u001b[0;32m/usr/local/lib/python3.10/dist-packages/tensorflow/python/eager/execute.py\u001b[0m in \u001b[0;36mquick_execute\u001b[0;34m(op_name, num_outputs, inputs, attrs, ctx, name)\u001b[0m\n\u001b[1;32m     51\u001b[0m   \u001b[0;32mtry\u001b[0m\u001b[0;34m:\u001b[0m\u001b[0;34m\u001b[0m\u001b[0;34m\u001b[0m\u001b[0m\n\u001b[1;32m     52\u001b[0m     \u001b[0mctx\u001b[0m\u001b[0;34m.\u001b[0m\u001b[0mensure_initialized\u001b[0m\u001b[0;34m(\u001b[0m\u001b[0;34m)\u001b[0m\u001b[0;34m\u001b[0m\u001b[0;34m\u001b[0m\u001b[0m\n\u001b[0;32m---> 53\u001b[0;31m     tensors = pywrap_tfe.TFE_Py_Execute(ctx._handle, device_name, op_name,\n\u001b[0m\u001b[1;32m     54\u001b[0m                                         inputs, attrs, num_outputs)\n\u001b[1;32m     55\u001b[0m   \u001b[0;32mexcept\u001b[0m \u001b[0mcore\u001b[0m\u001b[0;34m.\u001b[0m\u001b[0m_NotOkStatusException\u001b[0m \u001b[0;32mas\u001b[0m \u001b[0me\u001b[0m\u001b[0;34m:\u001b[0m\u001b[0;34m\u001b[0m\u001b[0;34m\u001b[0m\u001b[0m\n",
            "\u001b[0;31mKeyboardInterrupt\u001b[0m: "
          ]
        }
      ],
      "source": [
        "\n",
        "resnet_history = resnet_model.fit(train_data_leaves,\n",
        "                                  epochs=5,\n",
        "                                  steps_per_epoch=len(train_data_leaves),\n",
        "                                  validation_data=test_data_leaves,\n",
        "                                  validation_steps=len(test_data_leaves),\n",
        "                                  callbacks=[model_checkpoint]\n",
        "                                  # Add TensorBoard callback to model (callbacks parameter takes a list)\n",
        "                                  )"
      ]
    },
    {
      "cell_type": "markdown",
      "metadata": {
        "id": "3Advvepx8PYT"
      },
      "source": [
        "##Evaluating the model"
      ]
    },
    {
      "cell_type": "code",
      "execution_count": null,
      "metadata": {
        "id": "9g21gjhR6p8K"
      },
      "outputs": [],
      "source": [
        "resnet_model.evaluate(valid_data_leaves)"
      ]
    },
    {
      "cell_type": "markdown",
      "metadata": {
        "id": "CXWnWq6i8TCy"
      },
      "source": [
        "##Loading the weights"
      ]
    },
    {
      "cell_type": "code",
      "execution_count": null,
      "metadata": {
        "id": "f9kjxi9J6rv6"
      },
      "outputs": [],
      "source": [
        "resnet_model.load_weights(checkpoint_path)"
      ]
    },
    {
      "cell_type": "markdown",
      "metadata": {
        "id": "bFh3R6cg8nES"
      },
      "source": [
        "##Loading the weights and retraining the model from epoch 5"
      ]
    },
    {
      "cell_type": "code",
      "execution_count": null,
      "metadata": {
        "id": "OWr4p1EJ6thD"
      },
      "outputs": [],
      "source": [
        "initial_epochs=resnet_history.epoch[-1]\n",
        "epochs=initial_epochs+6\n",
        "resnet_history_2=resnet_model.fit(train_data_leaves,\n",
        "                                  epochs=epochs,\n",
        "                                  initial_epoch=initial_epochs,\n",
        "                                  steps_per_epoch=len(train_data_leaves),\n",
        "                                  validation_data=valid_data_leaves,\n",
        "                                  validation_steps=int(0.15*(len(valid_data_leaves))),\n",
        "                                  callbacks=model_checkpoint)"
      ]
    },
    {
      "cell_type": "markdown",
      "metadata": {
        "id": "5m2QGmBs8vxK"
      },
      "source": [
        "##Plotting loss curves"
      ]
    },
    {
      "cell_type": "code",
      "execution_count": 38,
      "metadata": {
        "id": "UrmUiqK160XD"
      },
      "outputs": [],
      "source": [
        "import matplotlib.pyplot as plt\n",
        "\n",
        "# Plot the validation and training data separately\n",
        "def plot_loss_curves(history):\n",
        "  \"\"\"\n",
        "  Returns separate loss curves for training and validation metrics.\n",
        "  \"\"\"\n",
        "  loss = history.history['loss']\n",
        "  val_loss = history.history['val_loss']\n",
        "\n",
        "  accuracy = history.history['accuracy']\n",
        "  val_accuracy = history.history['val_accuracy']\n",
        "\n",
        "  epochs = range(len(history.history['loss']))\n",
        "\n",
        "  # Plot loss\n",
        "  plt.plot(epochs, loss, label='training_loss')\n",
        "  plt.plot(epochs, val_loss, label='val_loss')\n",
        "  plt.title('Loss')\n",
        "  plt.xlabel('Epochs')\n",
        "  plt.legend()\n",
        "\n",
        "  # Plot accuracy\n",
        "  plt.figure()\n",
        "  plt.plot(epochs, accuracy, label='training_accuracy')\n",
        "  plt.plot(epochs, val_accuracy, label='val_accuracy')\n",
        "  plt.title('Accuracy')\n",
        "  plt.xlabel('Epochs')\n",
        "  plt.legend();"
      ]
    },
    {
      "cell_type": "code",
      "execution_count": null,
      "metadata": {
        "id": "wCNTGMYP62oZ",
        "colab": {
          "base_uri": "https://localhost:8080/",
          "height": 927
        },
        "outputId": "4e856a77-1531-4eb4-960c-828a870845c3"
      },
      "outputs": [
        {
          "output_type": "display_data",
          "data": {
            "text/plain": [
              "<Figure size 640x480 with 1 Axes>"
            ],
            "image/png": "[encoded data removed]"
          },
          "metadata": {}
        },
        {
          "output_type": "display_data",
          "data": {
            "text/plain": [
              "<Figure size 640x480 with 1 Axes>"
            ],
            "image/png": "[encoded data removed]"
          },
          "metadata": {}
        }
      ],
      "source": [
        "plot_loss_curves(resnet_history)"
      ]
    },
    {
      "cell_type": "code",
      "execution_count": null,
      "metadata": {
        "id": "X2RWUG_i64fU",
        "colab": {
          "base_uri": "https://localhost:8080/"
        },
        "outputId": "11cf137c-8c2d-4053-f15a-4bcdd615b0b8"
      },
      "outputs": [
        {
          "output_type": "stream",
          "name": "stdout",
          "text": [
            "46/46 [==============================] - 153s 3s/step - loss: 0.5271 - accuracy: 0.8840\n"
          ]
        },
        {
          "output_type": "execute_result",
          "data": {
            "text/plain": [
              "[0.5271270275115967, 0.8839778900146484]"
            ]
          },
          "metadata": {},
          "execution_count": 21
        }
      ],
      "source": [
        "resnet_model.evaluate(test_data_leaves)"
      ]
    },
    {
      "cell_type": "markdown",
      "metadata": {
        "id": "NjXtcL_i80DC"
      },
      "source": [
        "##Loading and preprocessing the input image(load_and_prep_image)"
      ]
    },
    {
      "cell_type": "code",
      "execution_count": null,
      "metadata": {
        "id": "HQ_BJRV666qt"
      },
      "outputs": [],
      "source": [
        "def load_and_prep_image(filename):\n",
        "  \"\"\"\n",
        "  Reads an image from filename, turns it into a tensor\n",
        "  and reshapes it to (img_shape, img_shape, colour_channel).\n",
        "  \"\"\"\n",
        "  # Read in target file (an image)\n",
        "  img = tf.io.read_file(filename)\n",
        "\n",
        "  # Decode the read file into a tensor & ensure 3 colour channels\n",
        "  # (our model is trained on images with 3 colour channels and sometimes images have 4 colour channels)\n",
        "  img = tf.image.decode_image(img, channels=3)\n",
        "\n",
        "  # Resize the image (to the same size our model was trained on)\n",
        "  img = tf.image.resize(img, size = [600,450])\n",
        "\n",
        "  # Rescale the image (get all values between 0 and 1)\n",
        "  img = img/255.\n",
        "  return img"
      ]
    },
    {
      "cell_type": "markdown",
      "metadata": {
        "id": "4g9O5LE38_Gi"
      },
      "source": [
        "##Predicting the plant and plotting the image"
      ]
    },
    {
      "cell_type": "code",
      "execution_count": null,
      "metadata": {
        "id": "mELBGKvk6-iY"
      },
      "outputs": [],
      "source": [
        "def pred_and_plot(model, filename, class_names):\n",
        "  \"\"\"\n",
        "  Imports an image located at filename, makes a prediction on it with\n",
        "  a trained model and plots the image with the predicted class as the title.\n",
        "  \"\"\"\n",
        "  # Import the target image and preprocess it\n",
        "  img = load_and_prep_image(filename)\n",
        "\n",
        "  # Make a prediction\n",
        "  pred = model.predict(tf.expand_dims(img, axis=0))\n",
        "\n",
        "  # Get the predicted class\n",
        "  if len(pred[0]) > 1: # check for multi-class\n",
        "    pred_class = class_names[pred.argmax()] # if more than one output, take the max\n",
        "  else:\n",
        "    pred_class = class_names[int(tf.round(pred)[0][0])] # if only one output, round\n",
        "\n",
        "  # Plot the image and predicted class\n",
        "  plt.imshow(img)\n",
        "  plt.title(f\"Prediction: {pred_class}\")\n",
        "  plt.axis(False);"
      ]
    },
    {
      "cell_type": "markdown",
      "source": [
        "##Using pickle to save the model"
      ],
      "metadata": {
        "id": "EW5n9q4UzbNC"
      }
    },
    {
      "cell_type": "code",
      "source": [
        "import pickle\n",
        "model_pkl=\"model91.pkl\"\n",
        "with open(model_pkl,\"wb\") as file:\n",
        "  pickle.dump(resnet_model,file)"
      ],
      "metadata": {
        "id": "tZhuuhLBXScK"
      },
      "execution_count": null,
      "outputs": []
    },
    {
      "cell_type": "code",
      "source": [
        "with open(model_pkl,\"rb\") as file:\n",
        "  model=pickle.load(file)"
      ],
      "metadata": {
        "colab": {
          "base_uri": "https://localhost:8080/",
          "height": 373
        },
        "id": "DdbzgQluXoci",
        "outputId": "1bbd04ba-2ec3-4774-fd25-300bc61b37e8"
      },
      "execution_count": null,
      "outputs": [
        {
          "output_type": "error",
          "ename": "TypeError",
          "evalue": "ignored",
          "traceback": [
            "\u001b[0;31m---------------------------------------------------------------------------\u001b[0m",
            "\u001b[0;31mTypeError\u001b[0m                                 Traceback (most recent call last)",
            "\u001b[0;32m<ipython-input-25-87f698c1f34c>\u001b[0m in \u001b[0;36m<cell line: 1>\u001b[0;34m()\u001b[0m\n\u001b[1;32m      1\u001b[0m \u001b[0;32mwith\u001b[0m \u001b[0mopen\u001b[0m\u001b[0;34m(\u001b[0m\u001b[0mmodel_pkl\u001b[0m\u001b[0;34m,\u001b[0m\u001b[0;34m\"rb\"\u001b[0m\u001b[0;34m)\u001b[0m \u001b[0;32mas\u001b[0m \u001b[0mfile\u001b[0m\u001b[0;34m:\u001b[0m\u001b[0;34m\u001b[0m\u001b[0;34m\u001b[0m\u001b[0m\n\u001b[0;32m----> 2\u001b[0;31m   \u001b[0mmodel\u001b[0m\u001b[0;34m=\u001b[0m\u001b[0mpickle\u001b[0m\u001b[0;34m.\u001b[0m\u001b[0mload\u001b[0m\u001b[0;34m(\u001b[0m\u001b[0mfile\u001b[0m\u001b[0;34m)\u001b[0m\u001b[0;34m\u001b[0m\u001b[0;34m\u001b[0m\u001b[0m\n\u001b[0m",
            "\u001b[0;32m/usr/local/lib/python3.10/dist-packages/keras/src/saving/pickle_utils.py\u001b[0m in \u001b[0;36mdeserialize_model_from_bytecode\u001b[0;34m(serialized_model)\u001b[0m\n\u001b[1;32m     46\u001b[0m         \u001b[0mmodel\u001b[0m \u001b[0;34m=\u001b[0m \u001b[0msaving_lib\u001b[0m\u001b[0;34m.\u001b[0m\u001b[0mload_model\u001b[0m\u001b[0;34m(\u001b[0m\u001b[0mfilepath\u001b[0m\u001b[0;34m,\u001b[0m \u001b[0msafe_mode\u001b[0m\u001b[0;34m=\u001b[0m\u001b[0;32mFalse\u001b[0m\u001b[0;34m)\u001b[0m\u001b[0;34m\u001b[0m\u001b[0;34m\u001b[0m\u001b[0m\n\u001b[1;32m     47\u001b[0m     \u001b[0;32mexcept\u001b[0m \u001b[0mException\u001b[0m \u001b[0;32mas\u001b[0m \u001b[0me\u001b[0m\u001b[0;34m:\u001b[0m\u001b[0;34m\u001b[0m\u001b[0;34m\u001b[0m\u001b[0m\n\u001b[0;32m---> 48\u001b[0;31m         \u001b[0;32mraise\u001b[0m \u001b[0me\u001b[0m\u001b[0;34m\u001b[0m\u001b[0;34m\u001b[0m\u001b[0m\n\u001b[0m\u001b[1;32m     49\u001b[0m     \u001b[0;32melse\u001b[0m\u001b[0;34m:\u001b[0m\u001b[0;34m\u001b[0m\u001b[0;34m\u001b[0m\u001b[0m\n\u001b[1;32m     50\u001b[0m         \u001b[0;32mreturn\u001b[0m \u001b[0mmodel\u001b[0m\u001b[0;34m\u001b[0m\u001b[0;34m\u001b[0m\u001b[0m\n",
            "\u001b[0;32m/usr/local/lib/python3.10/dist-packages/keras/src/saving/pickle_utils.py\u001b[0m in \u001b[0;36mdeserialize_model_from_bytecode\u001b[0;34m(serialized_model)\u001b[0m\n\u001b[1;32m     44\u001b[0m         \u001b[0;31m# serialized as a string by Dense.get_config()) will require\u001b[0m\u001b[0;34m\u001b[0m\u001b[0;34m\u001b[0m\u001b[0m\n\u001b[1;32m     45\u001b[0m         \u001b[0;31m# a custom_object_scope.\u001b[0m\u001b[0;34m\u001b[0m\u001b[0;34m\u001b[0m\u001b[0m\n\u001b[0;32m---> 46\u001b[0;31m         \u001b[0mmodel\u001b[0m \u001b[0;34m=\u001b[0m \u001b[0msaving_lib\u001b[0m\u001b[0;34m.\u001b[0m\u001b[0mload_model\u001b[0m\u001b[0;34m(\u001b[0m\u001b[0mfilepath\u001b[0m\u001b[0;34m,\u001b[0m \u001b[0msafe_mode\u001b[0m\u001b[0;34m=\u001b[0m\u001b[0;32mFalse\u001b[0m\u001b[0;34m)\u001b[0m\u001b[0;34m\u001b[0m\u001b[0;34m\u001b[0m\u001b[0m\n\u001b[0m\u001b[1;32m     47\u001b[0m     \u001b[0;32mexcept\u001b[0m \u001b[0mException\u001b[0m \u001b[0;32mas\u001b[0m \u001b[0me\u001b[0m\u001b[0;34m:\u001b[0m\u001b[0;34m\u001b[0m\u001b[0;34m\u001b[0m\u001b[0m\n\u001b[1;32m     48\u001b[0m         \u001b[0;32mraise\u001b[0m \u001b[0me\u001b[0m\u001b[0;34m\u001b[0m\u001b[0;34m\u001b[0m\u001b[0m\n",
            "\u001b[0;32m/usr/local/lib/python3.10/dist-packages/keras/src/saving/saving_lib.py\u001b[0m in \u001b[0;36mload_model\u001b[0;34m(filepath, custom_objects, compile, safe_mode)\u001b[0m\n\u001b[1;32m    273\u001b[0m \u001b[0;34m\u001b[0m\u001b[0m\n\u001b[1;32m    274\u001b[0m     \u001b[0;32mexcept\u001b[0m \u001b[0mException\u001b[0m \u001b[0;32mas\u001b[0m \u001b[0me\u001b[0m\u001b[0;34m:\u001b[0m\u001b[0;34m\u001b[0m\u001b[0;34m\u001b[0m\u001b[0m\n\u001b[0;32m--> 275\u001b[0;31m         \u001b[0;32mraise\u001b[0m \u001b[0me\u001b[0m\u001b[0;34m\u001b[0m\u001b[0;34m\u001b[0m\u001b[0m\n\u001b[0m\u001b[1;32m    276\u001b[0m     \u001b[0;32melse\u001b[0m\u001b[0;34m:\u001b[0m\u001b[0;34m\u001b[0m\u001b[0;34m\u001b[0m\u001b[0m\n\u001b[1;32m    277\u001b[0m         \u001b[0;32mreturn\u001b[0m \u001b[0mmodel\u001b[0m\u001b[0;34m\u001b[0m\u001b[0;34m\u001b[0m\u001b[0m\n",
            "\u001b[0;32m/usr/local/lib/python3.10/dist-packages/keras/src/saving/saving_lib.py\u001b[0m in \u001b[0;36mload_model\u001b[0;34m(filepath, custom_objects, compile, safe_mode)\u001b[0m\n\u001b[1;32m    238\u001b[0m             \u001b[0;31m# Construct the model from the configuration file in the archive.\u001b[0m\u001b[0;34m\u001b[0m\u001b[0;34m\u001b[0m\u001b[0m\n\u001b[1;32m    239\u001b[0m             \u001b[0;32mwith\u001b[0m \u001b[0mObjectSharingScope\u001b[0m\u001b[0;34m(\u001b[0m\u001b[0;34m)\u001b[0m\u001b[0;34m:\u001b[0m\u001b[0;34m\u001b[0m\u001b[0;34m\u001b[0m\u001b[0m\n\u001b[0;32m--> 240\u001b[0;31m                 model = deserialize_keras_object(\n\u001b[0m\u001b[1;32m    241\u001b[0m                     \u001b[0mconfig_dict\u001b[0m\u001b[0;34m,\u001b[0m \u001b[0mcustom_objects\u001b[0m\u001b[0;34m,\u001b[0m \u001b[0msafe_mode\u001b[0m\u001b[0;34m=\u001b[0m\u001b[0msafe_mode\u001b[0m\u001b[0;34m\u001b[0m\u001b[0;34m\u001b[0m\u001b[0m\n\u001b[1;32m    242\u001b[0m                 )\n",
            "\u001b[0;32m/usr/local/lib/python3.10/dist-packages/keras/src/saving/serialization_lib.py\u001b[0m in \u001b[0;36mdeserialize_keras_object\u001b[0;34m(config, custom_objects, safe_mode, **kwargs)\u001b[0m\n\u001b[1;32m    702\u001b[0m     \u001b[0msafe_mode_scope\u001b[0m \u001b[0;34m=\u001b[0m \u001b[0mSafeModeScope\u001b[0m\u001b[0;34m(\u001b[0m\u001b[0msafe_mode\u001b[0m\u001b[0;34m)\u001b[0m\u001b[0;34m\u001b[0m\u001b[0;34m\u001b[0m\u001b[0m\n\u001b[1;32m    703\u001b[0m     \u001b[0;32mwith\u001b[0m \u001b[0mcustom_obj_scope\u001b[0m\u001b[0;34m,\u001b[0m \u001b[0msafe_mode_scope\u001b[0m\u001b[0;34m:\u001b[0m\u001b[0;34m\u001b[0m\u001b[0;34m\u001b[0m\u001b[0m\n\u001b[0;32m--> 704\u001b[0;31m         \u001b[0minstance\u001b[0m \u001b[0;34m=\u001b[0m \u001b[0mcls\u001b[0m\u001b[0;34m.\u001b[0m\u001b[0mfrom_config\u001b[0m\u001b[0;34m(\u001b[0m\u001b[0minner_config\u001b[0m\u001b[0;34m)\u001b[0m\u001b[0;34m\u001b[0m\u001b[0;34m\u001b[0m\u001b[0m\n\u001b[0m\u001b[1;32m    705\u001b[0m         \u001b[0mbuild_config\u001b[0m \u001b[0;34m=\u001b[0m \u001b[0mconfig\u001b[0m\u001b[0;34m.\u001b[0m\u001b[0mget\u001b[0m\u001b[0;34m(\u001b[0m\u001b[0;34m\"build_config\"\u001b[0m\u001b[0;34m,\u001b[0m \u001b[0;32mNone\u001b[0m\u001b[0;34m)\u001b[0m\u001b[0;34m\u001b[0m\u001b[0;34m\u001b[0m\u001b[0m\n\u001b[1;32m    706\u001b[0m         \u001b[0;32mif\u001b[0m \u001b[0mbuild_config\u001b[0m\u001b[0;34m:\u001b[0m\u001b[0;34m\u001b[0m\u001b[0;34m\u001b[0m\u001b[0m\n",
            "\u001b[0;32m/usr/local/lib/python3.10/dist-packages/keras/src/engine/sequential.py\u001b[0m in \u001b[0;36mfrom_config\u001b[0;34m(cls, config, custom_objects)\u001b[0m\n\u001b[1;32m    476\u001b[0m                 \u001b[0muse_legacy_format\u001b[0m\u001b[0;34m=\u001b[0m\u001b[0muse_legacy_format\u001b[0m\u001b[0;34m,\u001b[0m\u001b[0;34m\u001b[0m\u001b[0;34m\u001b[0m\u001b[0m\n\u001b[1;32m    477\u001b[0m             )\n\u001b[0;32m--> 478\u001b[0;31m             \u001b[0mmodel\u001b[0m\u001b[0;34m.\u001b[0m\u001b[0madd\u001b[0m\u001b[0;34m(\u001b[0m\u001b[0mlayer\u001b[0m\u001b[0;34m)\u001b[0m\u001b[0;34m\u001b[0m\u001b[0;34m\u001b[0m\u001b[0m\n\u001b[0m\u001b[1;32m    479\u001b[0m \u001b[0;34m\u001b[0m\u001b[0m\n\u001b[1;32m    480\u001b[0m         if (\n",
            "\u001b[0;32m/usr/local/lib/python3.10/dist-packages/tensorflow/python/trackable/base.py\u001b[0m in \u001b[0;36m_method_wrapper\u001b[0;34m(self, *args, **kwargs)\u001b[0m\n\u001b[1;32m    202\u001b[0m     \u001b[0mself\u001b[0m\u001b[0;34m.\u001b[0m\u001b[0m_self_setattr_tracking\u001b[0m \u001b[0;34m=\u001b[0m \u001b[0;32mFalse\u001b[0m  \u001b[0;31m# pylint: disable=protected-access\u001b[0m\u001b[0;34m\u001b[0m\u001b[0;34m\u001b[0m\u001b[0m\n\u001b[1;32m    203\u001b[0m     \u001b[0;32mtry\u001b[0m\u001b[0;34m:\u001b[0m\u001b[0;34m\u001b[0m\u001b[0;34m\u001b[0m\u001b[0m\n\u001b[0;32m--> 204\u001b[0;31m       \u001b[0mresult\u001b[0m \u001b[0;34m=\u001b[0m \u001b[0mmethod\u001b[0m\u001b[0;34m(\u001b[0m\u001b[0mself\u001b[0m\u001b[0;34m,\u001b[0m \u001b[0;34m*\u001b[0m\u001b[0margs\u001b[0m\u001b[0;34m,\u001b[0m \u001b[0;34m**\u001b[0m\u001b[0mkwargs\u001b[0m\u001b[0;34m)\u001b[0m\u001b[0;34m\u001b[0m\u001b[0;34m\u001b[0m\u001b[0m\n\u001b[0m\u001b[1;32m    205\u001b[0m     \u001b[0;32mfinally\u001b[0m\u001b[0;34m:\u001b[0m\u001b[0;34m\u001b[0m\u001b[0;34m\u001b[0m\u001b[0m\n\u001b[1;32m    206\u001b[0m       \u001b[0mself\u001b[0m\u001b[0;34m.\u001b[0m\u001b[0m_self_setattr_tracking\u001b[0m \u001b[0;34m=\u001b[0m \u001b[0mprevious_value\u001b[0m  \u001b[0;31m# pylint: disable=protected-access\u001b[0m\u001b[0;34m\u001b[0m\u001b[0;34m\u001b[0m\u001b[0m\n",
            "\u001b[0;32m/usr/local/lib/python3.10/dist-packages/keras/src/utils/traceback_utils.py\u001b[0m in \u001b[0;36merror_handler\u001b[0;34m(*args, **kwargs)\u001b[0m\n\u001b[1;32m     68\u001b[0m             \u001b[0;31m# To get the full stack trace, call:\u001b[0m\u001b[0;34m\u001b[0m\u001b[0;34m\u001b[0m\u001b[0m\n\u001b[1;32m     69\u001b[0m             \u001b[0;31m# `tf.debugging.disable_traceback_filtering()`\u001b[0m\u001b[0;34m\u001b[0m\u001b[0;34m\u001b[0m\u001b[0m\n\u001b[0;32m---> 70\u001b[0;31m             \u001b[0;32mraise\u001b[0m \u001b[0me\u001b[0m\u001b[0;34m.\u001b[0m\u001b[0mwith_traceback\u001b[0m\u001b[0;34m(\u001b[0m\u001b[0mfiltered_tb\u001b[0m\u001b[0;34m)\u001b[0m \u001b[0;32mfrom\u001b[0m \u001b[0;32mNone\u001b[0m\u001b[0;34m\u001b[0m\u001b[0;34m\u001b[0m\u001b[0m\n\u001b[0m\u001b[1;32m     71\u001b[0m         \u001b[0;32mfinally\u001b[0m\u001b[0;34m:\u001b[0m\u001b[0;34m\u001b[0m\u001b[0;34m\u001b[0m\u001b[0m\n\u001b[1;32m     72\u001b[0m             \u001b[0;32mdel\u001b[0m \u001b[0mfiltered_tb\u001b[0m\u001b[0;34m\u001b[0m\u001b[0;34m\u001b[0m\u001b[0m\n",
            "\u001b[0;32m/usr/local/lib/python3.10/dist-packages/keras/src/engine/sequential.py\u001b[0m in \u001b[0;36madd\u001b[0;34m(self, layer)\u001b[0m\n\u001b[1;32m    183\u001b[0m                 \u001b[0mlayer\u001b[0m \u001b[0;34m=\u001b[0m \u001b[0mfunctional\u001b[0m\u001b[0;34m.\u001b[0m\u001b[0mModuleWrapper\u001b[0m\u001b[0;34m(\u001b[0m\u001b[0mlayer\u001b[0m\u001b[0;34m)\u001b[0m\u001b[0;34m\u001b[0m\u001b[0;34m\u001b[0m\u001b[0m\n\u001b[1;32m    184\u001b[0m         \u001b[0;32melse\u001b[0m\u001b[0;34m:\u001b[0m\u001b[0;34m\u001b[0m\u001b[0;34m\u001b[0m\u001b[0m\n\u001b[0;32m--> 185\u001b[0;31m             raise TypeError(\n\u001b[0m\u001b[1;32m    186\u001b[0m                 \u001b[0;34m\"The added layer must be an instance of class Layer. \"\u001b[0m\u001b[0;34m\u001b[0m\u001b[0;34m\u001b[0m\u001b[0m\n\u001b[1;32m    187\u001b[0m                 \u001b[0;34mf\"Received: layer={layer} of type {type(layer)}.\"\u001b[0m\u001b[0;34m\u001b[0m\u001b[0;34m\u001b[0m\u001b[0m\n",
            "\u001b[0;31mTypeError\u001b[0m: The added layer must be an instance of class Layer. Received: layer=KerasLayer of type <class 'str'>."
          ]
        }
      ]
    },
    {
      "cell_type": "markdown",
      "source": [
        "##Saving the model in Gdrive"
      ],
      "metadata": {
        "id": "gBOi3Hx3ztVq"
      }
    },
    {
      "cell_type": "code",
      "source": [
        "\n",
        "path = f\"/content/gdrive/My Drive/model(<91)\"\n",
        "resnet_model.save(path)"
      ],
      "metadata": {
        "id": "PoxsitYFTEzH"
      },
      "execution_count": null,
      "outputs": []
    },
    {
      "cell_type": "markdown",
      "source": [
        "#Experiment 2"
      ],
      "metadata": {
        "id": "wJemvlPbYcCq"
      }
    },
    {
      "cell_type": "markdown",
      "source": [
        "##Turning on mixed prescision"
      ],
      "metadata": {
        "id": "kN-5weiLYea4"
      }
    },
    {
      "cell_type": "code",
      "source": [
        "from tensorflow.keras import mixed_precision\n",
        "mixed_precision.set_global_policy(policy=\"mixed_float16\")"
      ],
      "metadata": {
        "id": "tqt4oj20TOtP"
      },
      "execution_count": 6,
      "outputs": []
    },
    {
      "cell_type": "markdown",
      "source": [
        "##Training the model without data augmentation"
      ],
      "metadata": {
        "id": "WvOACEnwZDVZ"
      }
    },
    {
      "cell_type": "markdown",
      "source": [
        "##Creating batches of images"
      ],
      "metadata": {
        "id": "1yARWBr0bYdQ"
      }
    },
    {
      "cell_type": "code",
      "source": [
        "train_dir=\"/content/(Splitted)Indian Medicininal Leaves Dataset/train\"\n",
        "test_dir=\"/content/(Splitted)Indian Medicininal Leaves Dataset/test\"\n",
        "valid_dir=\"/content/(Splitted)Indian Medicininal Leaves Dataset/val\"\n",
        "IMAGE_SIZE=(224,224)\n",
        "BATCH_SIZE=32"
      ],
      "metadata": {
        "id": "xAsVI5hRbN_x"
      },
      "execution_count": 7,
      "outputs": []
    },
    {
      "cell_type": "code",
      "source": [
        "train_data_leaves=image_dataset_from_directory(directory=train_dir,\n",
        "                                               image_size=IMAGE_SIZE,\n",
        "                                               label_mode=\"categorical\",\n",
        "                                               batch_size=BATCH_SIZE)\n",
        "test_data_leaves=image_dataset_from_directory(directory=test_dir,\n",
        "                                               image_size=IMAGE_SIZE,\n",
        "                                               label_mode=\"categorical\",\n",
        "                                               batch_size=BATCH_SIZE)\n",
        "val_data_leaves=image_dataset_from_directory(directory=valid_dir,\n",
        "                                               image_size=IMAGE_SIZE,\n",
        "                                               label_mode=\"categorical\",\n",
        "                                               batch_size=BATCH_SIZE)"
      ],
      "metadata": {
        "colab": {
          "base_uri": "https://localhost:8080/"
        },
        "id": "eiaLM2e8bwww",
        "outputId": "c0b4be5c-9513-4d5b-af65-3ab4870a1fb7"
      },
      "execution_count": 8,
      "outputs": [
        {
          "output_type": "stream",
          "name": "stdout",
          "text": [
            "Found 4106 files belonging to 80 classes.\n",
            "Found 1448 files belonging to 80 classes.\n",
            "Found 1346 files belonging to 80 classes.\n"
          ]
        }
      ]
    },
    {
      "cell_type": "markdown",
      "source": [
        "##Creating the model"
      ],
      "metadata": {
        "id": "QHuxlAGDbdfS"
      }
    },
    {
      "cell_type": "code",
      "source": [
        "\n",
        "def create_model():\n",
        "  # Create base model\n",
        "  input_shape = (224, 224, 3)\n",
        "  base_model = tf.keras.applications.resnet50.ResNet50(include_top=False)\n",
        "  base_model.trainable = False # freeze base model layers\n",
        "\n",
        "  # Create Functional model\n",
        "  inputs = layers.Input(shape=input_shape, name=\"input_layer\")\n",
        "\n",
        "\n",
        "  x = base_model(inputs, training=False)\n",
        "  x = GlobalAveragePooling2D(name=\"pooling_layer\")(x)\n",
        "  x = Dense(len(class_names_leaves))(x)\n",
        "  outputs = Activation(\"softmax\", dtype=tf.float32, name=\"softmax_float32\")(x)\n",
        "  resnet50_model = tf.keras.Model(inputs, outputs)\n",
        "  return resnet50_model\n",
        "\n",
        "resnet50_model1=create_model()\n",
        "# Compile the model\n",
        "resnet50_model1.compile(loss=\"categorical_crossentropy\",\n",
        "              optimizer=tf.keras.optimizers.Adam(),\n",
        "              metrics=[\"accuracy\"])"
      ],
      "metadata": {
        "id": "fl52QLqYYjzQ"
      },
      "execution_count": 21,
      "outputs": []
    },
    {
      "cell_type": "code",
      "source": [
        "resnet50_model_history= resnet50_model1.fit(train_data_leaves,\n",
        "                                            epochs=5,\n",
        "                                            steps_per_epoch=len(train_data_leaves),\n",
        "                                            validation_data=test_data_leaves,\n",
        "                                            validation_steps=int(0.15 * len(test_data_leaves)),\n",
        "                                            callbacks=model_checkpoint)"
      ],
      "metadata": {
        "colab": {
          "base_uri": "https://localhost:8080/"
        },
        "id": "QbwtifWHZXHp",
        "outputId": "06fdcdfe-a6a7-4a8e-b091-c64f0f88da30"
      },
      "execution_count": 12,
      "outputs": [
        {
          "output_type": "stream",
          "name": "stdout",
          "text": [
            "Epoch 1/5\n",
            "129/129 [==============================] - 154s 1s/step - loss: 2.5044 - accuracy: 0.4323 - val_loss: 1.2882 - val_accuracy: 0.6771\n",
            "Epoch 2/5\n",
            "129/129 [==============================] - 139s 1s/step - loss: 0.7302 - accuracy: 0.8427 - val_loss: 0.8735 - val_accuracy: 0.7708\n",
            "Epoch 3/5\n",
            "129/129 [==============================] - 140s 1s/step - loss: 0.3828 - accuracy: 0.9408 - val_loss: 0.7869 - val_accuracy: 0.7917\n",
            "Epoch 4/5\n",
            "129/129 [==============================] - 139s 1s/step - loss: 0.2323 - accuracy: 0.9720 - val_loss: 0.6566 - val_accuracy: 0.8229\n",
            "Epoch 5/5\n",
            "129/129 [==============================] - 145s 1s/step - loss: 0.1534 - accuracy: 0.9883 - val_loss: 0.5318 - val_accuracy: 0.8698\n"
          ]
        }
      ]
    },
    {
      "cell_type": "markdown",
      "source": [
        "##Augmenting the data"
      ],
      "metadata": {
        "id": "9GibIxP9Zn7I"
      }
    },
    {
      "cell_type": "code",
      "source": [
        "data_augmentation=Sequential([\n",
        "    RandomFlip(\"horizontal\"),\n",
        "    RandomRotation(0.2),\n",
        "    RandomHeight(0.2),\n",
        "    RandomZoom(0.2),\n",
        "    RandomWidth(0.2),\n",
        "])"
      ],
      "metadata": {
        "id": "IykJnc4cc-8_"
      },
      "execution_count": 14,
      "outputs": []
    },
    {
      "cell_type": "code",
      "source": [
        "def create_model_augmented_data():\n",
        "  # Create base model\n",
        "  input_shape = (224, 224, 3)\n",
        "  base_model = tf.keras.applications.resnet50.ResNet50(include_top=False)\n",
        "  base_model.trainable = False # freeze base model layers\n",
        "\n",
        "  # Create Functional model\n",
        "  inputs = layers.Input(shape=input_shape, name=\"input_layer\")\n",
        "\n",
        "  x=data_augmentation(inputs)\n",
        "  x = base_model(inputs, training=False)\n",
        "  x = GlobalAveragePooling2D(name=\"pooling_layer\")(x)\n",
        "  x=Dropout(0.2)(x)\n",
        "  x = Dense(len(class_names_leaves))(x)\n",
        "  outputs = Activation(\"softmax\", dtype=tf.float32, name=\"softmax_float32\")(x)\n",
        "  resnet50_model = tf.keras.Model(inputs, outputs)\n",
        "  return resnet50_model\n"
      ],
      "metadata": {
        "id": "O6sfmgKvsfDE"
      },
      "execution_count": 33,
      "outputs": []
    },
    {
      "cell_type": "code",
      "source": [
        "model2=create_model_augmented_data()"
      ],
      "metadata": {
        "id": "w9_xR0A2krb1"
      },
      "execution_count": 34,
      "outputs": []
    },
    {
      "cell_type": "code",
      "source": [
        "model2.load_weights(checkpoint_path)"
      ],
      "metadata": {
        "colab": {
          "base_uri": "https://localhost:8080/"
        },
        "id": "Efz7hfKfsSXs",
        "outputId": "4ea32970-215a-4603-f716-a65be45d8d0b"
      },
      "execution_count": 35,
      "outputs": [
        {
          "output_type": "execute_result",
          "data": {
            "text/plain": [
              "<tensorflow.python.checkpoint.checkpoint.CheckpointLoadStatus at 0x7d8a9b9b7bb0>"
            ]
          },
          "metadata": {},
          "execution_count": 35
        }
      ]
    },
    {
      "cell_type": "code",
      "source": [
        "model2.compile(loss=\"categorical_crossentropy\",\n",
        "              optimizer=tf.keras.optimizers.Adam(),\n",
        "              metrics=[\"accuracy\"])"
      ],
      "metadata": {
        "id": "pBHtwcMytozU"
      },
      "execution_count": 36,
      "outputs": []
    },
    {
      "cell_type": "code",
      "source": [
        "model2_history=model2.fit(train_data_leaves,\n",
        "                          epochs=5,\n",
        "                          steps_per_epoch=len(train_data_leaves),\n",
        "                          validation_data=test_data_leaves,\n",
        "                          validation_steps=len(val_data_leaves),\n",
        "                          callbacks=model_checkpoint)"
      ],
      "metadata": {
        "colab": {
          "base_uri": "https://localhost:8080/"
        },
        "id": "dD54abEUtDlD",
        "outputId": "991bbcfc-ac95-4e57-dcdd-4c1a580c5538"
      },
      "execution_count": 37,
      "outputs": [
        {
          "output_type": "stream",
          "name": "stdout",
          "text": [
            "Epoch 1/5\n",
            "129/129 [==============================] - 164s 1s/step - loss: 0.1778 - accuracy: 0.9735 - val_loss: 0.5911 - val_accuracy: 0.8387\n",
            "Epoch 2/5\n",
            "129/129 [==============================] - 181s 1s/step - loss: 0.1344 - accuracy: 0.9825 - val_loss: 0.5580 - val_accuracy: 0.8445\n",
            "Epoch 3/5\n",
            "129/129 [==============================] - 183s 1s/step - loss: 0.1069 - accuracy: 0.9873 - val_loss: 0.5164 - val_accuracy: 0.8641\n",
            "Epoch 4/5\n",
            "129/129 [==============================] - 224s 2s/step - loss: 0.0832 - accuracy: 0.9910 - val_loss: 0.5179 - val_accuracy: 0.8605\n",
            "Epoch 5/5\n",
            "129/129 [==============================] - 219s 2s/step - loss: 0.0667 - accuracy: 0.9951 - val_loss: 0.5035 - val_accuracy: 0.8685\n"
          ]
        }
      ]
    },
    {
      "cell_type": "code",
      "source": [
        "plot_loss_curves(model2_history)"
      ],
      "metadata": {
        "colab": {
          "base_uri": "https://localhost:8080/",
          "height": 927
        },
        "id": "WXRyKjrztfrM",
        "outputId": "0fa4a9c5-cf79-4b99-99a1-eaaabb35d12d"
      },
      "execution_count": 39,
      "outputs": [
        {
          "output_type": "display_data",
          "data": {
            "text/plain": [
              "<Figure size 640x480 with 1 Axes>"
            ],
            "image/png": "[encoded data removed]"
          },
          "metadata": {}
        },
        {
          "output_type": "display_data",
          "data": {
            "text/plain": [
              "<Figure size 640x480 with 1 Axes>"
            ],
            "image/png": "[encoded data removed]"
          },
          "metadata": {}
        }
      ]
    },
    {
      "cell_type": "code",
      "source": [
        "import pickle\n",
        "model_pkl=\"model98.pkl\"\n",
        "with open(model_pkl,\"wb\") as file:\n",
        "  pickle.dump(model2,file)"
      ],
      "metadata": {
        "id": "scm9H3nJzNuD"
      },
      "execution_count": 42,
      "outputs": []
    },
    {
      "cell_type": "code",
      "source": [
        "with open(model_pkl,\"rb\") as file:\n",
        "  model=pickle.load(file)"
      ],
      "metadata": {
        "id": "CvZcdbRtz8xD"
      },
      "execution_count": 43,
      "outputs": []
    },
    {
      "cell_type": "code",
      "source": [
        "model.evaluate(test_data_leaves)"
      ],
      "metadata": {
        "colab": {
          "base_uri": "https://localhost:8080/"
        },
        "id": "TBmO2ulZ0DzD",
        "outputId": "7e359945-412d-44b4-8a8a-654b87878d20"
      },
      "execution_count": 44,
      "outputs": [
        {
          "output_type": "stream",
          "name": "stdout",
          "text": [
            "46/46 [==============================] - 39s 673ms/step - loss: 0.5075 - accuracy: 0.8667\n"
          ]
        },
        {
          "output_type": "execute_result",
          "data": {
            "text/plain": [
              "[0.5075256824493408, 0.8667126893997192]"
            ]
          },
          "metadata": {},
          "execution_count": 44
        }
      ]
    },
    {
      "cell_type": "code",
      "source": [],
      "metadata": {
        "id": "b9OngKSh0K9S"
      },
      "execution_count": null,
      "outputs": []
    }
  ],
  "metadata": {
    "accelerator": "GPU",
    "colab": {
      "provenance": [],
      "toc_visible": true,
      "include_colab_link": true
    },
    "kernelspec": {
      "display_name": "Python 3",
      "name": "python3"
    },
    "language_info": {
      "name": "python"
    }
  },
  "nbformat": 4,
  "nbformat_minor": 0
}