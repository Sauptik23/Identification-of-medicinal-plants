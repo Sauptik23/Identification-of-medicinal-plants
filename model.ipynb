{
  "nbformat": 4,
  "nbformat_minor": 0,
  "metadata": {
    "colab": {
      "provenance": [],
      "authorship_tag": "ABX9TyO21jQcaSbhWP5OykTGUAdL",
      "include_colab_link": true
    },
    "kernelspec": {
      "name": "python3",
      "display_name": "Python 3"
    },
    "language_info": {
      "name": "python"
    }
  },
  "cells": [
    {
      "cell_type": "markdown",
      "metadata": {
        "id": "view-in-github",
        "colab_type": "text"
      },
      "source": [
        "<a href=\"https://colab.research.google.com/github/Sauptik23/Identification-of-medicinal-plants/blob/main/model.ipynb\" target=\"_parent\"><img src=\"https://colab.research.google.com/assets/colab-badge.svg\" alt=\"Open In Colab\"/></a>"
      ]
    },
    {
      "cell_type": "markdown",
      "metadata": {
        "id": "CO5yVdOq1ADV"
      },
      "source": [
        "##Installations"
      ]
    },
    {
      "cell_type": "code",
      "execution_count": null,
      "metadata": {
        "colab": {
          "base_uri": "https://localhost:8080/"
        },
        "id": "-oo-pOwp0nM6",
        "outputId": "72a30015-16f2-4e73-f71b-25d53bf82cd3"
      },
      "outputs": [
        {
          "output_type": "stream",
          "name": "stdout",
          "text": [
            "Collecting split-folders\n",
            "  Downloading split_folders-0.5.1-py3-none-any.whl (8.4 kB)\n",
            "Installing collected packages: split-folders\n",
            "Successfully installed split-folders-0.5.1\n"
          ]
        }
      ],
      "source": [
        "!pip install -q kaggle\n",
        "!pip install -q opendatasets\n",
        "!pip install split-folders"
      ]
    },
    {
      "cell_type": "markdown",
      "source": [
        "##Imports"
      ],
      "metadata": {
        "id": "--WewDm3aTK5"
      }
    },
    {
      "cell_type": "code",
      "execution_count": null,
      "metadata": {
        "id": "7aPHHvz_0qje"
      },
      "outputs": [],
      "source": [
        "import tensorflow as tf\n",
        "import matplotlib.pyplot as plt\n",
        "import opendatasets as od\n",
        "from numpy.ma.core import true_divide\n",
        "from tensorflow.keras.preprocessing.image import ImageDataGenerator\n",
        "import splitfolders\n",
        "from keras.api._v2.keras.preprocessing import image_dataset_from_directory\n",
        "from tensorflow.keras.layers import RandomFlip,RandomRotation,RandomZoom,RandomHeight,RandomWidth\n",
        "from tensorflow.keras.models import Sequential\n",
        "from tensorflow.keras.layers.experimental import preprocessing\n",
        "from tensorflow.keras.applications.efficientnet import EfficientNetB3,EfficientNetB5,EfficientNetB2\n",
        "from keras.layers import Flatten, Dense,Dropout,Input,Activation\n",
        "from keras.layers import GlobalAveragePooling2D\n",
        "import tensorflow_hub as hub\n",
        "import matplotlib.pyplot as plt\n",
        "import matplotlib.image as mpimg\n",
        "import random\n",
        "import os\n",
        "import tensorflow as tf\n",
        "import tensorflow_hub as hub\n",
        "from tensorflow.keras import layers"
      ]
    },
    {
      "cell_type": "code",
      "execution_count": null,
      "metadata": {
        "colab": {
          "base_uri": "https://localhost:8080/"
        },
        "id": "OIdIlq8a4wDc",
        "outputId": "f7c579a3-382a-4d6e-ce17-bb737966c90d"
      },
      "outputs": [
        {
          "output_type": "stream",
          "name": "stdout",
          "text": [
            "Please provide your Kaggle credentials to download this dataset. Learn more: http://bit.ly/kaggle-creds\n",
            "Your Kaggle username: sauptikmukherjee\n",
            "Your Kaggle Key: ··········\n",
            "Downloading indian-medicinal-leaves-dataset.zip to ./indian-medicinal-leaves-dataset\n"
          ]
        },
        {
          "output_type": "stream",
          "name": "stderr",
          "text": [
            "100%|██████████| 9.00G/9.00G [01:34<00:00, 102MB/s]\n"
          ]
        },
        {
          "output_type": "stream",
          "name": "stdout",
          "text": [
            "\n"
          ]
        }
      ],
      "source": [
        "od.download(\n",
        "    \"https://www.kaggle.com/datasets/aryashah2k/indian-medicinal-leaves-dataset\"\n",
        "    )"
      ]
    },
    {
      "cell_type": "markdown",
      "metadata": {
        "id": "YC29QMYD7Qiz"
      },
      "source": [
        "#Inspecting the dataset"
      ]
    },
    {
      "cell_type": "code",
      "execution_count": null,
      "metadata": {
        "colab": {
          "base_uri": "https://localhost:8080/"
        },
        "id": "7uJkcrlN037U",
        "outputId": "d8f7b1dc-1136-447d-b844-4d44135b772d"
      },
      "outputs": [
        {
          "name": "stdout",
          "output_type": "stream",
          "text": [
            "There are 2 directories and 0 images in 'Indian Medicinal Leaves Image Datasets'.\n",
            "There are 40 directories and 0 images in 'Indian Medicinal Leaves Image Datasets/Medicinal plant dataset'.\n",
            "There are 0 directories and 146 images in 'Indian Medicinal Leaves Image Datasets/Medicinal plant dataset/Raktachandini'.\n",
            "There are 0 directories and 152 images in 'Indian Medicinal Leaves Image Datasets/Medicinal plant dataset/Nagadali'.\n",
            "There are 0 directories and 165 images in 'Indian Medicinal Leaves Image Datasets/Medicinal plant dataset/Hibiscus'.\n",
            "There are 0 directories and 146 images in 'Indian Medicinal Leaves Image Datasets/Medicinal plant dataset/Wood_sorel'.\n",
            "There are 0 directories and 146 images in 'Indian Medicinal Leaves Image Datasets/Medicinal plant dataset/Gauva'.\n",
            "There are 0 directories and 187 images in 'Indian Medicinal Leaves Image Datasets/Medicinal plant dataset/Jasmine'.\n",
            "There are 0 directories and 150 images in 'Indian Medicinal Leaves Image Datasets/Medicinal plant dataset/Henna'.\n",
            "There are 0 directories and 146 images in 'Indian Medicinal Leaves Image Datasets/Medicinal plant dataset/Amla'.\n",
            "There are 0 directories and 146 images in 'Indian Medicinal Leaves Image Datasets/Medicinal plant dataset/Nithyapushpa'.\n",
            "There are 0 directories and 146 images in 'Indian Medicinal Leaves Image Datasets/Medicinal plant dataset/Arali'.\n",
            "There are 0 directories and 146 images in 'Indian Medicinal Leaves Image Datasets/Medicinal plant dataset/Avacado'.\n",
            "There are 0 directories and 146 images in 'Indian Medicinal Leaves Image Datasets/Medicinal plant dataset/Sapota'.\n",
            "There are 0 directories and 146 images in 'Indian Medicinal Leaves Image Datasets/Medicinal plant dataset/Neem'.\n",
            "There are 0 directories and 146 images in 'Indian Medicinal Leaves Image Datasets/Medicinal plant dataset/Lemon_grass'.\n",
            "There are 0 directories and 146 images in 'Indian Medicinal Leaves Image Datasets/Medicinal plant dataset/Lemon'.\n",
            "There are 0 directories and 153 images in 'Indian Medicinal Leaves Image Datasets/Medicinal plant dataset/Mint'.\n",
            "There are 0 directories and 146 images in 'Indian Medicinal Leaves Image Datasets/Medicinal plant dataset/Basale'.\n",
            "There are 0 directories and 146 images in 'Indian Medicinal Leaves Image Datasets/Medicinal plant dataset/Amruta_Balli'.\n",
            "There are 0 directories and 146 images in 'Indian Medicinal Leaves Image Datasets/Medicinal plant dataset/Pepper'.\n",
            "There are 0 directories and 146 images in 'Indian Medicinal Leaves Image Datasets/Medicinal plant dataset/Tulasi'.\n",
            "There are 0 directories and 146 images in 'Indian Medicinal Leaves Image Datasets/Medicinal plant dataset/Bamboo'.\n",
            "There are 0 directories and 146 images in 'Indian Medicinal Leaves Image Datasets/Medicinal plant dataset/Curry_Leaf'.\n",
            "There are 0 directories and 160 images in 'Indian Medicinal Leaves Image Datasets/Medicinal plant dataset/Castor'.\n",
            "There are 0 directories and 146 images in 'Indian Medicinal Leaves Image Datasets/Medicinal plant dataset/Betel_Nut'.\n",
            "There are 0 directories and 146 images in 'Indian Medicinal Leaves Image Datasets/Medicinal plant dataset/Brahmi'.\n",
            "There are 0 directories and 146 images in 'Indian Medicinal Leaves Image Datasets/Medicinal plant dataset/Ashoka'.\n",
            "There are 0 directories and 164 images in 'Indian Medicinal Leaves Image Datasets/Medicinal plant dataset/Aloevera'.\n",
            "There are 0 directories and 115 images in 'Indian Medicinal Leaves Image Datasets/Medicinal plant dataset/Ganike'.\n",
            "There are 0 directories and 146 images in 'Indian Medicinal Leaves Image Datasets/Medicinal plant dataset/Ashwagandha'.\n",
            "There are 0 directories and 146 images in 'Indian Medicinal Leaves Image Datasets/Medicinal plant dataset/Doddapatre'.\n",
            "There are 0 directories and 146 images in 'Indian Medicinal Leaves Image Datasets/Medicinal plant dataset/Ekka'.\n",
            "There are 0 directories and 146 images in 'Indian Medicinal Leaves Image Datasets/Medicinal plant dataset/Mango'.\n",
            "There are 0 directories and 146 images in 'Indian Medicinal Leaves Image Datasets/Medicinal plant dataset/Pomegranate'.\n",
            "There are 0 directories and 146 images in 'Indian Medicinal Leaves Image Datasets/Medicinal plant dataset/Nooni'.\n",
            "There are 0 directories and 168 images in 'Indian Medicinal Leaves Image Datasets/Medicinal plant dataset/Rose'.\n",
            "There are 0 directories and 146 images in 'Indian Medicinal Leaves Image Datasets/Medicinal plant dataset/Pappaya'.\n",
            "There are 0 directories and 151 images in 'Indian Medicinal Leaves Image Datasets/Medicinal plant dataset/Betel'.\n",
            "There are 0 directories and 146 images in 'Indian Medicinal Leaves Image Datasets/Medicinal plant dataset/Geranium'.\n",
            "There are 0 directories and 146 images in 'Indian Medicinal Leaves Image Datasets/Medicinal plant dataset/Honge'.\n",
            "There are 0 directories and 146 images in 'Indian Medicinal Leaves Image Datasets/Medicinal plant dataset/Insulin'.\n",
            "There are 80 directories and 0 images in 'Indian Medicinal Leaves Image Datasets/Medicinal Leaf dataset'.\n",
            "There are 0 directories and 115 images in 'Indian Medicinal Leaves Image Datasets/Medicinal Leaf dataset/Coriender'.\n",
            "There are 0 directories and 76 images in 'Indian Medicinal Leaves Image Datasets/Medicinal Leaf dataset/Badipala'.\n",
            "There are 0 directories and 82 images in 'Indian Medicinal Leaves Image Datasets/Medicinal Leaf dataset/Astma_weed'.\n",
            "There are 0 directories and 73 images in 'Indian Medicinal Leaves Image Datasets/Medicinal Leaf dataset/Bringaraja'.\n",
            "There are 0 directories and 75 images in 'Indian Medicinal Leaves Image Datasets/Medicinal Leaf dataset/Pomoegranate'.\n",
            "There are 0 directories and 59 images in 'Indian Medicinal Leaves Image Datasets/Medicinal Leaf dataset/Kambajala'.\n",
            "There are 0 directories and 67 images in 'Indian Medicinal Leaves Image Datasets/Medicinal Leaf dataset/Common rue(naagdalli)'.\n",
            "There are 0 directories and 110 images in 'Indian Medicinal Leaves Image Datasets/Medicinal Leaf dataset/Jackfruit'.\n",
            "There are 0 directories and 118 images in 'Indian Medicinal Leaves Image Datasets/Medicinal Leaf dataset/Hibiscus'.\n",
            "There are 0 directories and 128 images in 'Indian Medicinal Leaves Image Datasets/Medicinal Leaf dataset/Guava'.\n",
            "There are 0 directories and 90 images in 'Indian Medicinal Leaves Image Datasets/Medicinal Leaf dataset/Nelavembu'.\n",
            "There are 0 directories and 76 images in 'Indian Medicinal Leaves Image Datasets/Medicinal Leaf dataset/Lantana'.\n",
            "There are 0 directories and 49 images in 'Indian Medicinal Leaves Image Datasets/Medicinal Leaf dataset/Jasmine'.\n",
            "There are 0 directories and 69 images in 'Indian Medicinal Leaves Image Datasets/Medicinal Leaf dataset/Chilly'.\n",
            "There are 0 directories and 80 images in 'Indian Medicinal Leaves Image Datasets/Medicinal Leaf dataset/Henna'.\n",
            "There are 0 directories and 40 images in 'Indian Medicinal Leaves Image Datasets/Medicinal Leaf dataset/Raddish'.\n",
            "There are 0 directories and 92 images in 'Indian Medicinal Leaves Image Datasets/Medicinal Leaf dataset/Onion'.\n",
            "There are 0 directories and 47 images in 'Indian Medicinal Leaves Image Datasets/Medicinal Leaf dataset/Pea'.\n",
            "There are 0 directories and 67 images in 'Indian Medicinal Leaves Image Datasets/Medicinal Leaf dataset/Amla'.\n",
            "There are 0 directories and 89 images in 'Indian Medicinal Leaves Image Datasets/Medicinal Leaf dataset/Arali'.\n",
            "There are 0 directories and 67 images in 'Indian Medicinal Leaves Image Datasets/Medicinal Leaf dataset/kamakasturi'.\n",
            "There are 0 directories and 62 images in 'Indian Medicinal Leaves Image Datasets/Medicinal Leaf dataset/Tomato'.\n",
            "There are 0 directories and 66 images in 'Indian Medicinal Leaves Image Datasets/Medicinal Leaf dataset/Parijatha'.\n",
            "There are 0 directories and 45 images in 'Indian Medicinal Leaves Image Datasets/Medicinal Leaf dataset/Sapota'.\n",
            "There are 0 directories and 132 images in 'Indian Medicinal Leaves Image Datasets/Medicinal Leaf dataset/Neem'.\n",
            "There are 0 directories and 123 images in 'Indian Medicinal Leaves Image Datasets/Medicinal Leaf dataset/Lemon'.\n",
            "There are 0 directories and 48 images in 'Indian Medicinal Leaves Image Datasets/Medicinal Leaf dataset/Kasambruga'.\n",
            "There are 0 directories and 135 images in 'Indian Medicinal Leaves Image Datasets/Medicinal Leaf dataset/Mint'.\n",
            "There are 0 directories and 135 images in 'Indian Medicinal Leaves Image Datasets/Medicinal Leaf dataset/Papaya'.\n",
            "There are 0 directories and 39 images in 'Indian Medicinal Leaves Image Datasets/Medicinal Leaf dataset/Turmeric'.\n",
            "There are 0 directories and 8 images in 'Indian Medicinal Leaves Image Datasets/Medicinal Leaf dataset/Pepper'.\n",
            "There are 0 directories and 79 images in 'Indian Medicinal Leaves Image Datasets/Medicinal Leaf dataset/Gasagase'.\n",
            "There are 0 directories and 92 images in 'Indian Medicinal Leaves Image Datasets/Medicinal Leaf dataset/Pumpkin'.\n",
            "There are 0 directories and 75 images in 'Indian Medicinal Leaves Image Datasets/Medicinal Leaf dataset/Ganigale'.\n",
            "There are 0 directories and 104 images in 'Indian Medicinal Leaves Image Datasets/Medicinal Leaf dataset/Bhrami'.\n",
            "There are 0 directories and 61 images in 'Indian Medicinal Leaves Image Datasets/Medicinal Leaf dataset/Sampige'.\n",
            "There are 0 directories and 118 images in 'Indian Medicinal Leaves Image Datasets/Medicinal Leaf dataset/Bamboo'.\n",
            "There are 0 directories and 73 images in 'Indian Medicinal Leaves Image Datasets/Medicinal Leaf dataset/Padri'.\n",
            "There are 0 directories and 82 images in 'Indian Medicinal Leaves Image Datasets/Medicinal Leaf dataset/Ginger'.\n",
            "There are 0 directories and 69 images in 'Indian Medicinal Leaves Image Datasets/Medicinal Leaf dataset/Taro'.\n",
            "There are 0 directories and 62 images in 'Indian Medicinal Leaves Image Datasets/Medicinal Leaf dataset/Nerale'.\n",
            "There are 0 directories and 81 images in 'Indian Medicinal Leaves Image Datasets/Medicinal Leaf dataset/Globe Amarnath'.\n",
            "There are 0 directories and 79 images in 'Indian Medicinal Leaves Image Datasets/Medicinal Leaf dataset/Malabar_Spinach'.\n",
            "There are 0 directories and 80 images in 'Indian Medicinal Leaves Image Datasets/Medicinal Leaf dataset/Eucalyptus'.\n",
            "There are 0 directories and 74 images in 'Indian Medicinal Leaves Image Datasets/Medicinal Leaf dataset/Thumbe'.\n",
            "There are 0 directories and 83 images in 'Indian Medicinal Leaves Image Datasets/Medicinal Leaf dataset/Coffee'.\n",
            "There are 0 directories and 76 images in 'Indian Medicinal Leaves Image Datasets/Medicinal Leaf dataset/Caricature'.\n",
            "There are 0 directories and 149 images in 'Indian Medicinal Leaves Image Datasets/Medicinal Leaf dataset/Palak(Spinach)'.\n",
            "There are 0 directories and 129 images in 'Indian Medicinal Leaves Image Datasets/Medicinal Leaf dataset/Castor'.\n",
            "There are 0 directories and 51 images in 'Indian Medicinal Leaves Image Datasets/Medicinal Leaf dataset/Malabar_Nut'.\n",
            "There are 0 directories and 118 images in 'Indian Medicinal Leaves Image Datasets/Medicinal Leaf dataset/Aloevera'.\n",
            "There are 0 directories and 63 images in 'Indian Medicinal Leaves Image Datasets/Medicinal Leaf dataset/Ganike'.\n",
            "There are 0 directories and 73 images in 'Indian Medicinal Leaves Image Datasets/Medicinal Leaf dataset/Kohlrabi'.\n",
            "There are 0 directories and 61 images in 'Indian Medicinal Leaves Image Datasets/Medicinal Leaf dataset/Balloon_Vine'.\n",
            "There are 0 directories and 66 images in 'Indian Medicinal Leaves Image Datasets/Medicinal Leaf dataset/camphor'.\n",
            "There are 0 directories and 69 images in 'Indian Medicinal Leaves Image Datasets/Medicinal Leaf dataset/Tecoma'.\n",
            "There are 0 directories and 176 images in 'Indian Medicinal Leaves Image Datasets/Medicinal Leaf dataset/Tamarind'.\n",
            "There are 0 directories and 8 images in 'Indian Medicinal Leaves Image Datasets/Medicinal Leaf dataset/Lemongrass'.\n",
            "There are 0 directories and 81 images in 'Indian Medicinal Leaves Image Datasets/Medicinal Leaf dataset/Ekka'.\n",
            "There are 0 directories and 93 images in 'Indian Medicinal Leaves Image Datasets/Medicinal Leaf dataset/Marigold'.\n",
            "There are 0 directories and 91 images in 'Indian Medicinal Leaves Image Datasets/Medicinal Leaf dataset/Amruthaballi'.\n",
            "There are 0 directories and 103 images in 'Indian Medicinal Leaves Image Datasets/Medicinal Leaf dataset/Mango'.\n",
            "There are 0 directories and 70 images in 'Indian Medicinal Leaves Image Datasets/Medicinal Leaf dataset/Spinach1'.\n",
            "There are 0 directories and 99 images in 'Indian Medicinal Leaves Image Datasets/Medicinal Leaf dataset/Citron lime (herelikai)'.\n",
            "There are 0 directories and 97 images in 'Indian Medicinal Leaves Image Datasets/Medicinal Leaf dataset/Beans'.\n",
            "There are 0 directories and 134 images in 'Indian Medicinal Leaves Image Datasets/Medicinal Leaf dataset/Catharanthus'.\n",
            "There are 0 directories and 56 images in 'Indian Medicinal Leaves Image Datasets/Medicinal Leaf dataset/Drumstick'.\n",
            "There are 0 directories and 142 images in 'Indian Medicinal Leaves Image Datasets/Medicinal Leaf dataset/Doddpathre'.\n",
            "There are 0 directories and 177 images in 'Indian Medicinal Leaves Image Datasets/Medicinal Leaf dataset/Tulsi'.\n",
            "There are 0 directories and 168 images in 'Indian Medicinal Leaves Image Datasets/Medicinal Leaf dataset/Curry'.\n",
            "There are 0 directories and 72 images in 'Indian Medicinal Leaves Image Datasets/Medicinal Leaf dataset/Nooni'.\n",
            "There are 0 directories and 47 images in 'Indian Medicinal Leaves Image Datasets/Medicinal Leaf dataset/Seethaashoka'.\n",
            "There are 0 directories and 106 images in 'Indian Medicinal Leaves Image Datasets/Medicinal Leaf dataset/Rose'.\n",
            "There are 0 directories and 114 images in 'Indian Medicinal Leaves Image Datasets/Medicinal Leaf dataset/Betel'.\n",
            "There are 0 directories and 81 images in 'Indian Medicinal Leaves Image Datasets/Medicinal Leaf dataset/ashoka'.\n",
            "There are 0 directories and 68 images in 'Indian Medicinal Leaves Image Datasets/Medicinal Leaf dataset/Chakte'.\n",
            "There are 0 directories and 114 images in 'Indian Medicinal Leaves Image Datasets/Medicinal Leaf dataset/Seethapala'.\n",
            "There are 0 directories and 113 images in 'Indian Medicinal Leaves Image Datasets/Medicinal Leaf dataset/Honge'.\n",
            "There are 0 directories and 89 images in 'Indian Medicinal Leaves Image Datasets/Medicinal Leaf dataset/Insulin'.\n",
            "There are 0 directories and 76 images in 'Indian Medicinal Leaves Image Datasets/Medicinal Leaf dataset/kepala'.\n"
          ]
        }
      ],
      "source": [
        "\n",
        "for dirpath,dirnames,filenames in os.walk(\"Indian Medicinal Leaves Image Datasets\"):\n",
        "  print(f\"There are {len(dirnames)} directories and {len(filenames)} images in '{dirpath}'.\")"
      ]
    },
    {
      "cell_type": "markdown",
      "metadata": {
        "id": "uSHQr0hD7Usi"
      },
      "source": [
        "#View Random Image"
      ]
    },
    {
      "cell_type": "code",
      "execution_count": null,
      "metadata": {
        "id": "j51fLsJN4f0D"
      },
      "outputs": [],
      "source": [
        "#view an image\n",
        "\n",
        "\n",
        "def view_random_image(target_dir,target_class):\n",
        "  target_folder=target_dir+target_class\n",
        "  random_image=random.sample(os.listdir(target_folder),1)\n",
        "  img=mpimg.imread(target_folder +\"/\" + random_image[0])\n",
        "  plt.imshow(img)\n",
        "  plt.title(target_class)\n",
        "  plt.axis(\"off\")\n",
        "\n",
        "  print(img.shape)\n",
        "  return img"
      ]
    },
    {
      "cell_type": "markdown",
      "metadata": {
        "id": "H6UMR-c47W5j"
      },
      "source": [
        "#Creating train-test-valid split"
      ]
    },
    {
      "cell_type": "code",
      "execution_count": null,
      "metadata": {
        "colab": {
          "base_uri": "https://localhost:8080/"
        },
        "id": "kd0jFCJE5KP2",
        "outputId": "318a9624-9ca8-4c9f-d5b8-32931cc2384a"
      },
      "outputs": [
        {
          "output_type": "stream",
          "name": "stderr",
          "text": [
            "Copying files: 6904 files [01:26, 79.87 files/s]\n"
          ]
        }
      ],
      "source": [
        "path_leaves=\"/content/Medicinal Leaf dataset\"\n",
        "splitfolders.ratio(path_leaves,seed=1337, output=\"(Splitted)Indian Medicininal Leaves Dataset\", ratio=(0.6, 0.2, 0.2))"
      ]
    },
    {
      "cell_type": "markdown",
      "metadata": {
        "id": "ZOMQ8JFx7bIj"
      },
      "source": [
        "#Storing class names in class_names_leaves"
      ]
    },
    {
      "cell_type": "code",
      "execution_count": null,
      "metadata": {
        "colab": {
          "base_uri": "https://localhost:8080/"
        },
        "id": "o8GMx1kc5Nek",
        "outputId": "db23499d-023a-4ea9-a958-7afb1d0325de"
      },
      "outputs": [
        {
          "output_type": "stream",
          "name": "stdout",
          "text": [
            "['Aloevera' 'Amla' 'Amruthaballi' 'Arali' 'Astma_weed' 'Badipala'\n",
            " 'Balloon_Vine' 'Bamboo' 'Beans' 'Betel' 'Bhrami' 'Bringaraja'\n",
            " 'Caricature' 'Castor' 'Catharanthus' 'Chakte' 'Chilly'\n",
            " 'Citron lime (herelikai)' 'Coffee' 'Common rue(naagdalli)' 'Coriender'\n",
            " 'Curry' 'Doddpathre' 'Drumstick' 'Ekka' 'Eucalyptus' 'Ganigale' 'Ganike'\n",
            " 'Gasagase' 'Ginger' 'Globe Amarnath' 'Guava' 'Henna' 'Hibiscus' 'Honge'\n",
            " 'Insulin' 'Jackfruit' 'Jasmine' 'Kambajala' 'Kasambruga' 'Kohlrabi'\n",
            " 'Lantana' 'Lemon' 'Lemongrass' 'Malabar_Nut' 'Malabar_Spinach' 'Mango'\n",
            " 'Marigold' 'Mint' 'Neem' 'Nelavembu' 'Nerale' 'Nooni' 'Onion' 'Padri'\n",
            " 'Palak(Spinach)' 'Papaya' 'Parijatha' 'Pea' 'Pepper' 'Pomoegranate'\n",
            " 'Pumpkin' 'Raddish' 'Rose' 'Sampige' 'Sapota' 'Seethaashoka' 'Seethapala'\n",
            " 'Spinach1' 'Tamarind' 'Taro' 'Tecoma' 'Thumbe' 'Tomato' 'Tulsi'\n",
            " 'Turmeric' 'ashoka' 'camphor' 'kamakasturi' 'kepala']\n"
          ]
        }
      ],
      "source": [
        "import pathlib\n",
        "import numpy as np\n",
        "data_dir_leaves = pathlib.Path(\"/content/(Splitted)Indian Medicininal Leaves Dataset/train\") # turn our training path into a Python path\n",
        "class_names_leaves = np.array(sorted([item.name for item in data_dir_leaves.glob('*')])) # created a list of class_names from the subdirectories\n",
        "print(class_names_leaves)"
      ]
    },
    {
      "cell_type": "markdown",
      "source": [
        "#Mounting the Google drive\n"
      ],
      "metadata": {
        "id": "omRzy3hOzXGb"
      }
    },
    {
      "cell_type": "code",
      "source": [
        "from google.colab import drive\n",
        "drive.mount('/content/gdrive')"
      ],
      "metadata": {
        "colab": {
          "base_uri": "https://localhost:8080/"
        },
        "id": "eUIix6xYWwrh",
        "outputId": "3d278487-c3c5-4127-cf64-e56a54ba2f30"
      },
      "execution_count": null,
      "outputs": [
        {
          "output_type": "stream",
          "name": "stdout",
          "text": [
            "Mounted at /content/gdrive\n"
          ]
        }
      ]
    },
    {
      "cell_type": "code",
      "execution_count": null,
      "metadata": {
        "colab": {
          "base_uri": "https://localhost:8080/"
        },
        "id": "H6uw8gu_5PuY",
        "outputId": "8baaeeda-4420-4498-d223-b4b78e470033"
      },
      "outputs": [
        {
          "output_type": "execute_result",
          "data": {
            "text/plain": [
              "80"
            ]
          },
          "metadata": {},
          "execution_count": 8
        }
      ],
      "source": [
        "len(class_names_leaves)"
      ]
    },
    {
      "cell_type": "markdown",
      "metadata": {
        "id": "-rz9TLn_7uuC"
      },
      "source": [
        "#Model Checkpoint"
      ]
    },
    {
      "cell_type": "code",
      "execution_count": null,
      "metadata": {
        "id": "HsbJwLbt5gda"
      },
      "outputs": [],
      "source": [
        "checkpoint_path = \"model_checkpoints/cp.ckpt\" # saving weights requires \".ckpt\" extension\n",
        "model_checkpoint = tf.keras.callbacks.ModelCheckpoint(checkpoint_path,\n",
        "                                                      monitor=\"val_accuracy\", # save the model weights with best validation accuracy\n",
        "                                                      save_best_only=True, # only save the best weights\n",
        "                                                      save_weights_only=True, # only save model weights (not whole model)\n",
        "                                                      verbose=0)"
      ]
    },
    {
      "cell_type": "markdown",
      "source": [
        "##Turning on mixed prescision"
      ],
      "metadata": {
        "id": "kN-5weiLYea4"
      }
    },
    {
      "cell_type": "code",
      "source": [
        "from tensorflow.keras import mixed_precision\n",
        "mixed_precision.set_global_policy(policy=\"mixed_float16\")"
      ],
      "metadata": {
        "id": "tqt4oj20TOtP"
      },
      "execution_count": null,
      "outputs": []
    },
    {
      "cell_type": "markdown",
      "source": [
        "##Training the model without data augmentation"
      ],
      "metadata": {
        "id": "WvOACEnwZDVZ"
      }
    },
    {
      "cell_type": "markdown",
      "source": [
        "##Creating batches of images"
      ],
      "metadata": {
        "id": "1yARWBr0bYdQ"
      }
    },
    {
      "cell_type": "code",
      "source": [
        "train_dir=\"/content/(Splitted)Indian Medicininal Leaves Dataset/train\"\n",
        "test_dir=\"/content/(Splitted)Indian Medicininal Leaves Dataset/test\"\n",
        "valid_dir=\"/content/(Splitted)Indian Medicininal Leaves Dataset/val\"\n",
        "IMAGE_SIZE=(224,224)\n",
        "BATCH_SIZE=32"
      ],
      "metadata": {
        "id": "xAsVI5hRbN_x"
      },
      "execution_count": null,
      "outputs": []
    },
    {
      "cell_type": "code",
      "source": [
        "train_data_leaves=image_dataset_from_directory(directory=train_dir,\n",
        "                                               image_size=IMAGE_SIZE,\n",
        "                                               label_mode=\"categorical\",\n",
        "                                               batch_size=BATCH_SIZE)\n",
        "test_data_leaves=image_dataset_from_directory(directory=test_dir,\n",
        "                                               image_size=IMAGE_SIZE,\n",
        "                                               label_mode=\"categorical\",\n",
        "                                               batch_size=BATCH_SIZE)\n",
        "val_data_leaves=image_dataset_from_directory(directory=valid_dir,\n",
        "                                               image_size=IMAGE_SIZE,\n",
        "                                               label_mode=\"categorical\",\n",
        "                                               batch_size=BATCH_SIZE)"
      ],
      "metadata": {
        "colab": {
          "base_uri": "https://localhost:8080/"
        },
        "id": "eiaLM2e8bwww",
        "outputId": "c0b4be5c-9513-4d5b-af65-3ab4870a1fb7"
      },
      "execution_count": null,
      "outputs": [
        {
          "output_type": "stream",
          "name": "stdout",
          "text": [
            "Found 4106 files belonging to 80 classes.\n",
            "Found 1448 files belonging to 80 classes.\n",
            "Found 1346 files belonging to 80 classes.\n"
          ]
        }
      ]
    },
    {
      "cell_type": "markdown",
      "source": [
        "##Creating the model"
      ],
      "metadata": {
        "id": "QHuxlAGDbdfS"
      }
    },
    {
      "cell_type": "code",
      "source": [
        "\n",
        "def create_model():\n",
        "  # Create base model\n",
        "  input_shape = (224, 224, 3)\n",
        "  base_model = tf.keras.applications.resnet50.ResNet50(include_top=False)\n",
        "  base_model.trainable = False # freeze base model layers\n",
        "\n",
        "  # Create Functional model\n",
        "  inputs = layers.Input(shape=input_shape, name=\"input_layer\")\n",
        "\n",
        "\n",
        "  x = base_model(inputs, training=False)\n",
        "  x = GlobalAveragePooling2D(name=\"pooling_layer\")(x)\n",
        "  x = Dense(len(class_names_leaves))(x)\n",
        "  outputs = Activation(\"softmax\", dtype=tf.float32, name=\"softmax_float32\")(x)\n",
        "  resnet50_model = tf.keras.Model(inputs, outputs)\n",
        "  return resnet50_model\n",
        "\n",
        "resnet50_model1=create_model()\n",
        "# Compile the model\n",
        "resnet50_model1.compile(loss=\"categorical_crossentropy\",\n",
        "              optimizer=tf.keras.optimizers.Adam(),\n",
        "              metrics=[\"accuracy\"])"
      ],
      "metadata": {
        "id": "fl52QLqYYjzQ"
      },
      "execution_count": null,
      "outputs": []
    },
    {
      "cell_type": "code",
      "source": [
        "resnet50_model_history= resnet50_model1.fit(train_data_leaves,\n",
        "                                            epochs=5,\n",
        "                                            steps_per_epoch=len(train_data_leaves),\n",
        "                                            validation_data=test_data_leaves,\n",
        "                                            validation_steps=int(0.15 * len(test_data_leaves)),\n",
        "                                            callbacks=model_checkpoint)"
      ],
      "metadata": {
        "colab": {
          "base_uri": "https://localhost:8080/"
        },
        "id": "QbwtifWHZXHp",
        "outputId": "06fdcdfe-a6a7-4a8e-b091-c64f0f88da30"
      },
      "execution_count": null,
      "outputs": [
        {
          "output_type": "stream",
          "name": "stdout",
          "text": [
            "Epoch 1/5\n",
            "129/129 [==============================] - 154s 1s/step - loss: 2.5044 - accuracy: 0.4323 - val_loss: 1.2882 - val_accuracy: 0.6771\n",
            "Epoch 2/5\n",
            "129/129 [==============================] - 139s 1s/step - loss: 0.7302 - accuracy: 0.8427 - val_loss: 0.8735 - val_accuracy: 0.7708\n",
            "Epoch 3/5\n",
            "129/129 [==============================] - 140s 1s/step - loss: 0.3828 - accuracy: 0.9408 - val_loss: 0.7869 - val_accuracy: 0.7917\n",
            "Epoch 4/5\n",
            "129/129 [==============================] - 139s 1s/step - loss: 0.2323 - accuracy: 0.9720 - val_loss: 0.6566 - val_accuracy: 0.8229\n",
            "Epoch 5/5\n",
            "129/129 [==============================] - 145s 1s/step - loss: 0.1534 - accuracy: 0.9883 - val_loss: 0.5318 - val_accuracy: 0.8698\n"
          ]
        }
      ]
    },
    {
      "cell_type": "markdown",
      "source": [
        "##Augmenting the data"
      ],
      "metadata": {
        "id": "9GibIxP9Zn7I"
      }
    },
    {
      "cell_type": "code",
      "source": [
        "data_augmentation=Sequential([\n",
        "    RandomFlip(\"horizontal\"),\n",
        "    RandomRotation(0.2),\n",
        "    RandomHeight(0.2),\n",
        "    RandomZoom(0.2),\n",
        "    RandomWidth(0.2),\n",
        "])"
      ],
      "metadata": {
        "id": "IykJnc4cc-8_"
      },
      "execution_count": null,
      "outputs": []
    },
    {
      "cell_type": "markdown",
      "source": [
        "##Creating the model with the augmented data"
      ],
      "metadata": {
        "id": "xWKuU-w53k4S"
      }
    },
    {
      "cell_type": "code",
      "source": [
        "def create_model_augmented_data():\n",
        "  # Create base model\n",
        "  input_shape = (224, 224, 3)\n",
        "  base_model = tf.keras.applications.resnet50.ResNet50(include_top=False)\n",
        "  base_model.trainable = False # freeze base model layers\n",
        "\n",
        "  # Create Functional model\n",
        "  inputs = layers.Input(shape=input_shape, name=\"input_layer\")\n",
        "\n",
        "  x=data_augmentation(inputs)\n",
        "  x = base_model(inputs, training=False)\n",
        "  x = GlobalAveragePooling2D(name=\"pooling_layer\")(x)\n",
        "  x=Dropout(0.2)(x)\n",
        "  x = Dense(len(class_names_leaves))(x)\n",
        "  outputs = Activation(\"softmax\", dtype=tf.float32, name=\"softmax_float32\")(x)\n",
        "  resnet50_model = tf.keras.Model(inputs, outputs)\n",
        "  return resnet50_model\n"
      ],
      "metadata": {
        "id": "O6sfmgKvsfDE"
      },
      "execution_count": null,
      "outputs": []
    },
    {
      "cell_type": "code",
      "source": [
        "model2=create_model_augmented_data()"
      ],
      "metadata": {
        "id": "w9_xR0A2krb1"
      },
      "execution_count": null,
      "outputs": []
    },
    {
      "cell_type": "markdown",
      "source": [
        "##Loading the weights"
      ],
      "metadata": {
        "id": "Zjlq7eiq3qca"
      }
    },
    {
      "cell_type": "code",
      "source": [
        "model2.load_weights(checkpoint_path)"
      ],
      "metadata": {
        "colab": {
          "base_uri": "https://localhost:8080/"
        },
        "id": "Efz7hfKfsSXs",
        "outputId": "4ea32970-215a-4603-f716-a65be45d8d0b"
      },
      "execution_count": null,
      "outputs": [
        {
          "output_type": "execute_result",
          "data": {
            "text/plain": [
              "<tensorflow.python.checkpoint.checkpoint.CheckpointLoadStatus at 0x7d8a9b9b7bb0>"
            ]
          },
          "metadata": {},
          "execution_count": 35
        }
      ]
    },
    {
      "cell_type": "markdown",
      "source": [
        "##Compile"
      ],
      "metadata": {
        "id": "o2bGPrNS3uaJ"
      }
    },
    {
      "cell_type": "code",
      "source": [
        "model2.compile(loss=\"categorical_crossentropy\",\n",
        "              optimizer=tf.keras.optimizers.Adam(),\n",
        "              metrics=[\"accuracy\"])"
      ],
      "metadata": {
        "id": "pBHtwcMytozU"
      },
      "execution_count": null,
      "outputs": []
    },
    {
      "cell_type": "markdown",
      "source": [
        "##Fit"
      ],
      "metadata": {
        "id": "bL2eCBbf3wDq"
      }
    },
    {
      "cell_type": "code",
      "source": [
        "model2_history=model2.fit(train_data_leaves,\n",
        "                          epochs=5,\n",
        "                          steps_per_epoch=len(train_data_leaves),\n",
        "                          validation_data=test_data_leaves,\n",
        "                          validation_steps=len(val_data_leaves),\n",
        "                          callbacks=model_checkpoint)"
      ],
      "metadata": {
        "colab": {
          "base_uri": "https://localhost:8080/"
        },
        "id": "dD54abEUtDlD",
        "outputId": "991bbcfc-ac95-4e57-dcdd-4c1a580c5538"
      },
      "execution_count": null,
      "outputs": [
        {
          "output_type": "stream",
          "name": "stdout",
          "text": [
            "Epoch 1/5\n",
            "129/129 [==============================] - 164s 1s/step - loss: 0.1778 - accuracy: 0.9735 - val_loss: 0.5911 - val_accuracy: 0.8387\n",
            "Epoch 2/5\n",
            "129/129 [==============================] - 181s 1s/step - loss: 0.1344 - accuracy: 0.9825 - val_loss: 0.5580 - val_accuracy: 0.8445\n",
            "Epoch 3/5\n",
            "129/129 [==============================] - 183s 1s/step - loss: 0.1069 - accuracy: 0.9873 - val_loss: 0.5164 - val_accuracy: 0.8641\n",
            "Epoch 4/5\n",
            "129/129 [==============================] - 224s 2s/step - loss: 0.0832 - accuracy: 0.9910 - val_loss: 0.5179 - val_accuracy: 0.8605\n",
            "Epoch 5/5\n",
            "129/129 [==============================] - 219s 2s/step - loss: 0.0667 - accuracy: 0.9951 - val_loss: 0.5035 - val_accuracy: 0.8685\n"
          ]
        }
      ]
    },
    {
      "cell_type": "markdown",
      "source": [
        "##Loss Curves"
      ],
      "metadata": {
        "id": "I3VjsyfF3xw5"
      }
    },
    {
      "cell_type": "code",
      "source": [
        "plot_loss_curves(model2_history)"
      ],
      "metadata": {
        "colab": {
          "base_uri": "https://localhost:8080/",
          "height": 927
        },
        "id": "WXRyKjrztfrM",
        "outputId": "0fa4a9c5-cf79-4b99-99a1-eaaabb35d12d"
      },
      "execution_count": null,
      "outputs": [
        {
          "output_type": "display_data",
          "data": {
            "text/plain": [
              "<Figure size 640x480 with 1 Axes>"
            ],
            "image/png": "[encoded data removed]"
          },
          "metadata": {}
        },
        {
          "output_type": "display_data",
          "data": {
            "text/plain": [
              "<Figure size 640x480 with 1 Axes>"
            ],
            "image/png": "[encoded data removed]"
          },
          "metadata": {}
        }
      ]
    },
    {
      "cell_type": "markdown",
      "source": [
        "##Saving the file using pickle"
      ],
      "metadata": {
        "id": "HQNLEBGs30My"
      }
    },
    {
      "cell_type": "code",
      "source": [
        "import pickle\n",
        "model_pkl=\"model98.pkl\"\n",
        "with open(model_pkl,\"wb\") as file:\n",
        "  pickle.dump(model2,file)"
      ],
      "metadata": {
        "id": "scm9H3nJzNuD"
      },
      "execution_count": null,
      "outputs": []
    },
    {
      "cell_type": "markdown",
      "source": [
        "##Loading the file"
      ],
      "metadata": {
        "id": "XTA8iFNq35sx"
      }
    },
    {
      "cell_type": "code",
      "source": [
        "with open(model_pkl,\"rb\") as file:\n",
        "  model=pickle.load(file)"
      ],
      "metadata": {
        "id": "CvZcdbRtz8xD"
      },
      "execution_count": null,
      "outputs": []
    },
    {
      "cell_type": "code",
      "source": [
        "model.evaluate(test_data_leaves)"
      ],
      "metadata": {
        "colab": {
          "base_uri": "https://localhost:8080/"
        },
        "id": "TBmO2ulZ0DzD",
        "outputId": "7e359945-412d-44b4-8a8a-654b87878d20"
      },
      "execution_count": null,
      "outputs": [
        {
          "output_type": "stream",
          "name": "stdout",
          "text": [
            "46/46 [==============================] - 39s 673ms/step - loss: 0.5075 - accuracy: 0.8667\n"
          ]
        },
        {
          "output_type": "execute_result",
          "data": {
            "text/plain": [
              "[0.5075256824493408, 0.8667126893997192]"
            ]
          },
          "metadata": {},
          "execution_count": 44
        }
      ]
    },
    {
      "cell_type": "code",
      "source": [
        "model2.evaluate(test_data_leaves)"
      ],
      "metadata": {
        "colab": {
          "base_uri": "https://localhost:8080/"
        },
        "id": "b9OngKSh0K9S",
        "outputId": "5692cab8-e3e2-4608-c318-95abaa6db245"
      },
      "execution_count": null,
      "outputs": [
        {
          "output_type": "stream",
          "name": "stdout",
          "text": [
            "46/46 [==============================] - 40s 655ms/step - loss: 0.5075 - accuracy: 0.8667\n"
          ]
        },
        {
          "output_type": "execute_result",
          "data": {
            "text/plain": [
              "[0.5075275301933289, 0.8667126893997192]"
            ]
          },
          "metadata": {},
          "execution_count": 45
        }
      ]
    },
    {
      "cell_type": "markdown",
      "source": [
        "##Saving the model in Gdrive"
      ],
      "metadata": {
        "id": "3BS-i7mD3_dp"
      }
    },
    {
      "cell_type": "code",
      "source": [
        "path=\"/content/gdrive/MyDrive/model86\"\n",
        "model.save(path)"
      ],
      "metadata": {
        "id": "Hez_gko10fLj"
      },
      "execution_count": null,
      "outputs": []
    }
  ]
}