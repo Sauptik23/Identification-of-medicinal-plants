{
  "cells": [
    {
      "cell_type": "markdown",
      "metadata": {
        "id": "view-in-github",
        "colab_type": "text"
      },
      "source": [
        "<a href=\"https://colab.research.google.com/github/Sauptik23/Identification-of-medicinal-plants/blob/main/final-model.ipynb\" target=\"_parent\"><img src=\"https://colab.research.google.com/assets/colab-badge.svg\" alt=\"Open In Colab\"/></a>"
      ]
    },
    {
      "cell_type": "markdown",
      "metadata": {
        "id": "CO5yVdOq1ADV"
      },
      "source": [
        "#Installations"
      ]
    },
    {
      "cell_type": "code",
      "execution_count": 1,
      "metadata": {
        "colab": {
          "base_uri": "https://localhost:8080/"
        },
        "id": "-oo-pOwp0nM6",
        "outputId": "5501877f-6fea-47ca-dded-44887fdbd19f"
      },
      "outputs": [
        {
          "output_type": "stream",
          "name": "stdout",
          "text": [
            "Collecting split-folders\n",
            "  Downloading split_folders-0.5.1-py3-none-any.whl (8.4 kB)\n",
            "Installing collected packages: split-folders\n",
            "Successfully installed split-folders-0.5.1\n"
          ]
        }
      ],
      "source": [
        "!pip install -q kaggle\n",
        "!pip install -q opendatasets\n",
        "!pip install split-folders"
      ]
    },
    {
      "cell_type": "code",
      "execution_count": 2,
      "metadata": {
        "id": "7aPHHvz_0qje"
      },
      "outputs": [],
      "source": [
        "import tensorflow as tf\n",
        "import matplotlib.pyplot as plt\n",
        "import opendatasets as od\n",
        "from numpy.ma.core import true_divide\n",
        "from tensorflow.keras.preprocessing.image import ImageDataGenerator\n",
        "import splitfolders\n",
        "from keras.api._v2.keras.preprocessing import image_dataset_from_directory\n",
        "from tensorflow.keras.layers import RandomFlip,RandomRotation,RandomZoom,RandomHeight,RandomWidth\n",
        "from tensorflow.keras.models import Sequential\n",
        "from tensorflow.keras.layers.experimental import preprocessing\n",
        "from tensorflow.keras.applications.efficientnet import EfficientNetB3,EfficientNetB5,EfficientNetB2\n",
        "from keras.layers import Flatten, Dense,Dropout,Input\n",
        "from keras.layers import GlobalAveragePooling2D\n",
        "import tensorflow_hub as hub\n",
        "import matplotlib.pyplot as plt\n",
        "import matplotlib.image as mpimg\n",
        "import random\n",
        "import os\n",
        "import tensorflow as tf\n",
        "import tensorflow_hub as hub\n",
        "from tensorflow.keras import layers"
      ]
    },
    {
      "cell_type": "code",
      "execution_count": null,
      "metadata": {
        "colab": {
          "base_uri": "https://localhost:8080/"
        },
        "id": "OIdIlq8a4wDc",
        "outputId": "c33fd80a-a139-47bf-e5ab-7c4e84c6cde2"
      },
      "outputs": [
        {
          "output_type": "stream",
          "name": "stdout",
          "text": [
            "Please provide your Kaggle credentials to download this dataset. Learn more: http://bit.ly/kaggle-creds\n",
            "Your Kaggle username: sauptikmukherjee\n",
            "Your Kaggle Key: ··········\n",
            "Downloading indian-medicinal-leaves-dataset.zip to ./indian-medicinal-leaves-dataset\n"
          ]
        },
        {
          "output_type": "stream",
          "name": "stderr",
          "text": [
            "100%|██████████| 9.00G/9.00G [01:01<00:00, 157MB/s]\n"
          ]
        },
        {
          "output_type": "stream",
          "name": "stdout",
          "text": [
            "\n"
          ]
        }
      ],
      "source": [
        "od.download(\n",
        "    \"https://www.kaggle.com/datasets/aryashah2k/indian-medicinal-leaves-dataset\"\n",
        "    )"
      ]
    },
    {
      "cell_type": "markdown",
      "metadata": {
        "id": "YC29QMYD7Qiz"
      },
      "source": [
        "#Inspeciting the dataset"
      ]
    },
    {
      "cell_type": "code",
      "execution_count": null,
      "metadata": {
        "colab": {
          "base_uri": "https://localhost:8080/"
        },
        "id": "7uJkcrlN037U",
        "outputId": "d8f7b1dc-1136-447d-b844-4d44135b772d"
      },
      "outputs": [
        {
          "name": "stdout",
          "output_type": "stream",
          "text": [
            "There are 2 directories and 0 images in 'Indian Medicinal Leaves Image Datasets'.\n",
            "There are 40 directories and 0 images in 'Indian Medicinal Leaves Image Datasets/Medicinal plant dataset'.\n",
            "There are 0 directories and 146 images in 'Indian Medicinal Leaves Image Datasets/Medicinal plant dataset/Raktachandini'.\n",
            "There are 0 directories and 152 images in 'Indian Medicinal Leaves Image Datasets/Medicinal plant dataset/Nagadali'.\n",
            "There are 0 directories and 165 images in 'Indian Medicinal Leaves Image Datasets/Medicinal plant dataset/Hibiscus'.\n",
            "There are 0 directories and 146 images in 'Indian Medicinal Leaves Image Datasets/Medicinal plant dataset/Wood_sorel'.\n",
            "There are 0 directories and 146 images in 'Indian Medicinal Leaves Image Datasets/Medicinal plant dataset/Gauva'.\n",
            "There are 0 directories and 187 images in 'Indian Medicinal Leaves Image Datasets/Medicinal plant dataset/Jasmine'.\n",
            "There are 0 directories and 150 images in 'Indian Medicinal Leaves Image Datasets/Medicinal plant dataset/Henna'.\n",
            "There are 0 directories and 146 images in 'Indian Medicinal Leaves Image Datasets/Medicinal plant dataset/Amla'.\n",
            "There are 0 directories and 146 images in 'Indian Medicinal Leaves Image Datasets/Medicinal plant dataset/Nithyapushpa'.\n",
            "There are 0 directories and 146 images in 'Indian Medicinal Leaves Image Datasets/Medicinal plant dataset/Arali'.\n",
            "There are 0 directories and 146 images in 'Indian Medicinal Leaves Image Datasets/Medicinal plant dataset/Avacado'.\n",
            "There are 0 directories and 146 images in 'Indian Medicinal Leaves Image Datasets/Medicinal plant dataset/Sapota'.\n",
            "There are 0 directories and 146 images in 'Indian Medicinal Leaves Image Datasets/Medicinal plant dataset/Neem'.\n",
            "There are 0 directories and 146 images in 'Indian Medicinal Leaves Image Datasets/Medicinal plant dataset/Lemon_grass'.\n",
            "There are 0 directories and 146 images in 'Indian Medicinal Leaves Image Datasets/Medicinal plant dataset/Lemon'.\n",
            "There are 0 directories and 153 images in 'Indian Medicinal Leaves Image Datasets/Medicinal plant dataset/Mint'.\n",
            "There are 0 directories and 146 images in 'Indian Medicinal Leaves Image Datasets/Medicinal plant dataset/Basale'.\n",
            "There are 0 directories and 146 images in 'Indian Medicinal Leaves Image Datasets/Medicinal plant dataset/Amruta_Balli'.\n",
            "There are 0 directories and 146 images in 'Indian Medicinal Leaves Image Datasets/Medicinal plant dataset/Pepper'.\n",
            "There are 0 directories and 146 images in 'Indian Medicinal Leaves Image Datasets/Medicinal plant dataset/Tulasi'.\n",
            "There are 0 directories and 146 images in 'Indian Medicinal Leaves Image Datasets/Medicinal plant dataset/Bamboo'.\n",
            "There are 0 directories and 146 images in 'Indian Medicinal Leaves Image Datasets/Medicinal plant dataset/Curry_Leaf'.\n",
            "There are 0 directories and 160 images in 'Indian Medicinal Leaves Image Datasets/Medicinal plant dataset/Castor'.\n",
            "There are 0 directories and 146 images in 'Indian Medicinal Leaves Image Datasets/Medicinal plant dataset/Betel_Nut'.\n",
            "There are 0 directories and 146 images in 'Indian Medicinal Leaves Image Datasets/Medicinal plant dataset/Brahmi'.\n",
            "There are 0 directories and 146 images in 'Indian Medicinal Leaves Image Datasets/Medicinal plant dataset/Ashoka'.\n",
            "There are 0 directories and 164 images in 'Indian Medicinal Leaves Image Datasets/Medicinal plant dataset/Aloevera'.\n",
            "There are 0 directories and 115 images in 'Indian Medicinal Leaves Image Datasets/Medicinal plant dataset/Ganike'.\n",
            "There are 0 directories and 146 images in 'Indian Medicinal Leaves Image Datasets/Medicinal plant dataset/Ashwagandha'.\n",
            "There are 0 directories and 146 images in 'Indian Medicinal Leaves Image Datasets/Medicinal plant dataset/Doddapatre'.\n",
            "There are 0 directories and 146 images in 'Indian Medicinal Leaves Image Datasets/Medicinal plant dataset/Ekka'.\n",
            "There are 0 directories and 146 images in 'Indian Medicinal Leaves Image Datasets/Medicinal plant dataset/Mango'.\n",
            "There are 0 directories and 146 images in 'Indian Medicinal Leaves Image Datasets/Medicinal plant dataset/Pomegranate'.\n",
            "There are 0 directories and 146 images in 'Indian Medicinal Leaves Image Datasets/Medicinal plant dataset/Nooni'.\n",
            "There are 0 directories and 168 images in 'Indian Medicinal Leaves Image Datasets/Medicinal plant dataset/Rose'.\n",
            "There are 0 directories and 146 images in 'Indian Medicinal Leaves Image Datasets/Medicinal plant dataset/Pappaya'.\n",
            "There are 0 directories and 151 images in 'Indian Medicinal Leaves Image Datasets/Medicinal plant dataset/Betel'.\n",
            "There are 0 directories and 146 images in 'Indian Medicinal Leaves Image Datasets/Medicinal plant dataset/Geranium'.\n",
            "There are 0 directories and 146 images in 'Indian Medicinal Leaves Image Datasets/Medicinal plant dataset/Honge'.\n",
            "There are 0 directories and 146 images in 'Indian Medicinal Leaves Image Datasets/Medicinal plant dataset/Insulin'.\n",
            "There are 80 directories and 0 images in 'Indian Medicinal Leaves Image Datasets/Medicinal Leaf dataset'.\n",
            "There are 0 directories and 115 images in 'Indian Medicinal Leaves Image Datasets/Medicinal Leaf dataset/Coriender'.\n",
            "There are 0 directories and 76 images in 'Indian Medicinal Leaves Image Datasets/Medicinal Leaf dataset/Badipala'.\n",
            "There are 0 directories and 82 images in 'Indian Medicinal Leaves Image Datasets/Medicinal Leaf dataset/Astma_weed'.\n",
            "There are 0 directories and 73 images in 'Indian Medicinal Leaves Image Datasets/Medicinal Leaf dataset/Bringaraja'.\n",
            "There are 0 directories and 75 images in 'Indian Medicinal Leaves Image Datasets/Medicinal Leaf dataset/Pomoegranate'.\n",
            "There are 0 directories and 59 images in 'Indian Medicinal Leaves Image Datasets/Medicinal Leaf dataset/Kambajala'.\n",
            "There are 0 directories and 67 images in 'Indian Medicinal Leaves Image Datasets/Medicinal Leaf dataset/Common rue(naagdalli)'.\n",
            "There are 0 directories and 110 images in 'Indian Medicinal Leaves Image Datasets/Medicinal Leaf dataset/Jackfruit'.\n",
            "There are 0 directories and 118 images in 'Indian Medicinal Leaves Image Datasets/Medicinal Leaf dataset/Hibiscus'.\n",
            "There are 0 directories and 128 images in 'Indian Medicinal Leaves Image Datasets/Medicinal Leaf dataset/Guava'.\n",
            "There are 0 directories and 90 images in 'Indian Medicinal Leaves Image Datasets/Medicinal Leaf dataset/Nelavembu'.\n",
            "There are 0 directories and 76 images in 'Indian Medicinal Leaves Image Datasets/Medicinal Leaf dataset/Lantana'.\n",
            "There are 0 directories and 49 images in 'Indian Medicinal Leaves Image Datasets/Medicinal Leaf dataset/Jasmine'.\n",
            "There are 0 directories and 69 images in 'Indian Medicinal Leaves Image Datasets/Medicinal Leaf dataset/Chilly'.\n",
            "There are 0 directories and 80 images in 'Indian Medicinal Leaves Image Datasets/Medicinal Leaf dataset/Henna'.\n",
            "There are 0 directories and 40 images in 'Indian Medicinal Leaves Image Datasets/Medicinal Leaf dataset/Raddish'.\n",
            "There are 0 directories and 92 images in 'Indian Medicinal Leaves Image Datasets/Medicinal Leaf dataset/Onion'.\n",
            "There are 0 directories and 47 images in 'Indian Medicinal Leaves Image Datasets/Medicinal Leaf dataset/Pea'.\n",
            "There are 0 directories and 67 images in 'Indian Medicinal Leaves Image Datasets/Medicinal Leaf dataset/Amla'.\n",
            "There are 0 directories and 89 images in 'Indian Medicinal Leaves Image Datasets/Medicinal Leaf dataset/Arali'.\n",
            "There are 0 directories and 67 images in 'Indian Medicinal Leaves Image Datasets/Medicinal Leaf dataset/kamakasturi'.\n",
            "There are 0 directories and 62 images in 'Indian Medicinal Leaves Image Datasets/Medicinal Leaf dataset/Tomato'.\n",
            "There are 0 directories and 66 images in 'Indian Medicinal Leaves Image Datasets/Medicinal Leaf dataset/Parijatha'.\n",
            "There are 0 directories and 45 images in 'Indian Medicinal Leaves Image Datasets/Medicinal Leaf dataset/Sapota'.\n",
            "There are 0 directories and 132 images in 'Indian Medicinal Leaves Image Datasets/Medicinal Leaf dataset/Neem'.\n",
            "There are 0 directories and 123 images in 'Indian Medicinal Leaves Image Datasets/Medicinal Leaf dataset/Lemon'.\n",
            "There are 0 directories and 48 images in 'Indian Medicinal Leaves Image Datasets/Medicinal Leaf dataset/Kasambruga'.\n",
            "There are 0 directories and 135 images in 'Indian Medicinal Leaves Image Datasets/Medicinal Leaf dataset/Mint'.\n",
            "There are 0 directories and 135 images in 'Indian Medicinal Leaves Image Datasets/Medicinal Leaf dataset/Papaya'.\n",
            "There are 0 directories and 39 images in 'Indian Medicinal Leaves Image Datasets/Medicinal Leaf dataset/Turmeric'.\n",
            "There are 0 directories and 8 images in 'Indian Medicinal Leaves Image Datasets/Medicinal Leaf dataset/Pepper'.\n",
            "There are 0 directories and 79 images in 'Indian Medicinal Leaves Image Datasets/Medicinal Leaf dataset/Gasagase'.\n",
            "There are 0 directories and 92 images in 'Indian Medicinal Leaves Image Datasets/Medicinal Leaf dataset/Pumpkin'.\n",
            "There are 0 directories and 75 images in 'Indian Medicinal Leaves Image Datasets/Medicinal Leaf dataset/Ganigale'.\n",
            "There are 0 directories and 104 images in 'Indian Medicinal Leaves Image Datasets/Medicinal Leaf dataset/Bhrami'.\n",
            "There are 0 directories and 61 images in 'Indian Medicinal Leaves Image Datasets/Medicinal Leaf dataset/Sampige'.\n",
            "There are 0 directories and 118 images in 'Indian Medicinal Leaves Image Datasets/Medicinal Leaf dataset/Bamboo'.\n",
            "There are 0 directories and 73 images in 'Indian Medicinal Leaves Image Datasets/Medicinal Leaf dataset/Padri'.\n",
            "There are 0 directories and 82 images in 'Indian Medicinal Leaves Image Datasets/Medicinal Leaf dataset/Ginger'.\n",
            "There are 0 directories and 69 images in 'Indian Medicinal Leaves Image Datasets/Medicinal Leaf dataset/Taro'.\n",
            "There are 0 directories and 62 images in 'Indian Medicinal Leaves Image Datasets/Medicinal Leaf dataset/Nerale'.\n",
            "There are 0 directories and 81 images in 'Indian Medicinal Leaves Image Datasets/Medicinal Leaf dataset/Globe Amarnath'.\n",
            "There are 0 directories and 79 images in 'Indian Medicinal Leaves Image Datasets/Medicinal Leaf dataset/Malabar_Spinach'.\n",
            "There are 0 directories and 80 images in 'Indian Medicinal Leaves Image Datasets/Medicinal Leaf dataset/Eucalyptus'.\n",
            "There are 0 directories and 74 images in 'Indian Medicinal Leaves Image Datasets/Medicinal Leaf dataset/Thumbe'.\n",
            "There are 0 directories and 83 images in 'Indian Medicinal Leaves Image Datasets/Medicinal Leaf dataset/Coffee'.\n",
            "There are 0 directories and 76 images in 'Indian Medicinal Leaves Image Datasets/Medicinal Leaf dataset/Caricature'.\n",
            "There are 0 directories and 149 images in 'Indian Medicinal Leaves Image Datasets/Medicinal Leaf dataset/Palak(Spinach)'.\n",
            "There are 0 directories and 129 images in 'Indian Medicinal Leaves Image Datasets/Medicinal Leaf dataset/Castor'.\n",
            "There are 0 directories and 51 images in 'Indian Medicinal Leaves Image Datasets/Medicinal Leaf dataset/Malabar_Nut'.\n",
            "There are 0 directories and 118 images in 'Indian Medicinal Leaves Image Datasets/Medicinal Leaf dataset/Aloevera'.\n",
            "There are 0 directories and 63 images in 'Indian Medicinal Leaves Image Datasets/Medicinal Leaf dataset/Ganike'.\n",
            "There are 0 directories and 73 images in 'Indian Medicinal Leaves Image Datasets/Medicinal Leaf dataset/Kohlrabi'.\n",
            "There are 0 directories and 61 images in 'Indian Medicinal Leaves Image Datasets/Medicinal Leaf dataset/Balloon_Vine'.\n",
            "There are 0 directories and 66 images in 'Indian Medicinal Leaves Image Datasets/Medicinal Leaf dataset/camphor'.\n",
            "There are 0 directories and 69 images in 'Indian Medicinal Leaves Image Datasets/Medicinal Leaf dataset/Tecoma'.\n",
            "There are 0 directories and 176 images in 'Indian Medicinal Leaves Image Datasets/Medicinal Leaf dataset/Tamarind'.\n",
            "There are 0 directories and 8 images in 'Indian Medicinal Leaves Image Datasets/Medicinal Leaf dataset/Lemongrass'.\n",
            "There are 0 directories and 81 images in 'Indian Medicinal Leaves Image Datasets/Medicinal Leaf dataset/Ekka'.\n",
            "There are 0 directories and 93 images in 'Indian Medicinal Leaves Image Datasets/Medicinal Leaf dataset/Marigold'.\n",
            "There are 0 directories and 91 images in 'Indian Medicinal Leaves Image Datasets/Medicinal Leaf dataset/Amruthaballi'.\n",
            "There are 0 directories and 103 images in 'Indian Medicinal Leaves Image Datasets/Medicinal Leaf dataset/Mango'.\n",
            "There are 0 directories and 70 images in 'Indian Medicinal Leaves Image Datasets/Medicinal Leaf dataset/Spinach1'.\n",
            "There are 0 directories and 99 images in 'Indian Medicinal Leaves Image Datasets/Medicinal Leaf dataset/Citron lime (herelikai)'.\n",
            "There are 0 directories and 97 images in 'Indian Medicinal Leaves Image Datasets/Medicinal Leaf dataset/Beans'.\n",
            "There are 0 directories and 134 images in 'Indian Medicinal Leaves Image Datasets/Medicinal Leaf dataset/Catharanthus'.\n",
            "There are 0 directories and 56 images in 'Indian Medicinal Leaves Image Datasets/Medicinal Leaf dataset/Drumstick'.\n",
            "There are 0 directories and 142 images in 'Indian Medicinal Leaves Image Datasets/Medicinal Leaf dataset/Doddpathre'.\n",
            "There are 0 directories and 177 images in 'Indian Medicinal Leaves Image Datasets/Medicinal Leaf dataset/Tulsi'.\n",
            "There are 0 directories and 168 images in 'Indian Medicinal Leaves Image Datasets/Medicinal Leaf dataset/Curry'.\n",
            "There are 0 directories and 72 images in 'Indian Medicinal Leaves Image Datasets/Medicinal Leaf dataset/Nooni'.\n",
            "There are 0 directories and 47 images in 'Indian Medicinal Leaves Image Datasets/Medicinal Leaf dataset/Seethaashoka'.\n",
            "There are 0 directories and 106 images in 'Indian Medicinal Leaves Image Datasets/Medicinal Leaf dataset/Rose'.\n",
            "There are 0 directories and 114 images in 'Indian Medicinal Leaves Image Datasets/Medicinal Leaf dataset/Betel'.\n",
            "There are 0 directories and 81 images in 'Indian Medicinal Leaves Image Datasets/Medicinal Leaf dataset/ashoka'.\n",
            "There are 0 directories and 68 images in 'Indian Medicinal Leaves Image Datasets/Medicinal Leaf dataset/Chakte'.\n",
            "There are 0 directories and 114 images in 'Indian Medicinal Leaves Image Datasets/Medicinal Leaf dataset/Seethapala'.\n",
            "There are 0 directories and 113 images in 'Indian Medicinal Leaves Image Datasets/Medicinal Leaf dataset/Honge'.\n",
            "There are 0 directories and 89 images in 'Indian Medicinal Leaves Image Datasets/Medicinal Leaf dataset/Insulin'.\n",
            "There are 0 directories and 76 images in 'Indian Medicinal Leaves Image Datasets/Medicinal Leaf dataset/kepala'.\n"
          ]
        }
      ],
      "source": [
        "\n",
        "for dirpath,dirnames,filenames in os.walk(\"Indian Medicinal Leaves Image Datasets\"):\n",
        "  print(f\"There are {len(dirnames)} directories and {len(filenames)} images in '{dirpath}'.\")"
      ]
    },
    {
      "cell_type": "markdown",
      "metadata": {
        "id": "uSHQr0hD7Usi"
      },
      "source": [
        "#View Random Image"
      ]
    },
    {
      "cell_type": "code",
      "execution_count": null,
      "metadata": {
        "id": "j51fLsJN4f0D"
      },
      "outputs": [],
      "source": [
        "#view an image\n",
        "\n",
        "\n",
        "def view_random_image(target_dir,target_class):\n",
        "  target_folder=target_dir+target_class\n",
        "  random_image=random.sample(os.listdir(target_folder),1)\n",
        "  img=mpimg.imread(target_folder +\"/\" + random_image[0])\n",
        "  plt.imshow(img)\n",
        "  plt.title(target_class)\n",
        "  plt.axis(\"off\")\n",
        "\n",
        "  print(img.shape)\n",
        "  return img"
      ]
    },
    {
      "cell_type": "markdown",
      "metadata": {
        "id": "H6UMR-c47W5j"
      },
      "source": [
        "#Creating train-test-valid split"
      ]
    },
    {
      "cell_type": "code",
      "execution_count": null,
      "metadata": {
        "colab": {
          "base_uri": "https://localhost:8080/"
        },
        "id": "kd0jFCJE5KP2",
        "outputId": "960471bc-5702-4384-8ed1-45376d73ccab"
      },
      "outputs": [
        {
          "name": "stderr",
          "output_type": "stream",
          "text": [
            "Copying files: 6904 files [01:12, 95.66 files/s]\n"
          ]
        }
      ],
      "source": [
        "path_leaves=\"/content/Medicinal Leaf dataset\"\n",
        "splitfolders.ratio(path_leaves,seed=1337, output=\"(Splitted)Indian Medicininal Leaves Dataset\", ratio=(0.6, 0.2, 0.2))"
      ]
    },
    {
      "cell_type": "markdown",
      "metadata": {
        "id": "ZOMQ8JFx7bIj"
      },
      "source": [
        "#Storing class names in class_names_leaves"
      ]
    },
    {
      "cell_type": "code",
      "execution_count": null,
      "metadata": {
        "colab": {
          "base_uri": "https://localhost:8080/"
        },
        "id": "o8GMx1kc5Nek",
        "outputId": "fdef02ff-02ab-4979-8cdf-9c5f4265f55c"
      },
      "outputs": [
        {
          "name": "stdout",
          "output_type": "stream",
          "text": [
            "['Aloevera' 'Amla' 'Amruthaballi' 'Arali' 'Astma_weed' 'Badipala'\n",
            " 'Balloon_Vine' 'Bamboo' 'Beans' 'Betel' 'Bhrami' 'Bringaraja'\n",
            " 'Caricature' 'Castor' 'Catharanthus' 'Chakte' 'Chilly'\n",
            " 'Citron lime (herelikai)' 'Coffee' 'Common rue(naagdalli)' 'Coriender'\n",
            " 'Curry' 'Doddpathre' 'Drumstick' 'Ekka' 'Eucalyptus' 'Ganigale' 'Ganike'\n",
            " 'Gasagase' 'Ginger' 'Globe Amarnath' 'Guava' 'Henna' 'Hibiscus' 'Honge'\n",
            " 'Insulin' 'Jackfruit' 'Jasmine' 'Kambajala' 'Kasambruga' 'Kohlrabi'\n",
            " 'Lantana' 'Lemon' 'Lemongrass' 'Malabar_Nut' 'Malabar_Spinach' 'Mango'\n",
            " 'Marigold' 'Mint' 'Neem' 'Nelavembu' 'Nerale' 'Nooni' 'Onion' 'Padri'\n",
            " 'Palak(Spinach)' 'Papaya' 'Parijatha' 'Pea' 'Pepper' 'Pomoegranate'\n",
            " 'Pumpkin' 'Raddish' 'Rose' 'Sampige' 'Sapota' 'Seethaashoka' 'Seethapala'\n",
            " 'Spinach1' 'Tamarind' 'Taro' 'Tecoma' 'Thumbe' 'Tomato' 'Tulsi'\n",
            " 'Turmeric' 'ashoka' 'camphor' 'kamakasturi' 'kepala']\n"
          ]
        }
      ],
      "source": [
        "import pathlib\n",
        "import numpy as np\n",
        "data_dir_leaves = pathlib.Path(\"/content/(Splitted)Indian Medicininal Leaves Dataset/train\") # turn our training path into a Python path\n",
        "class_names_leaves = np.array(sorted([item.name for item in data_dir_leaves.glob('*')])) # created a list of class_names from the subdirectories\n",
        "print(class_names_leaves)"
      ]
    },
    {
      "cell_type": "code",
      "execution_count": null,
      "metadata": {
        "colab": {
          "base_uri": "https://localhost:8080/"
        },
        "id": "H6uw8gu_5PuY",
        "outputId": "57748c0e-00aa-44b1-98ed-1dc28345857c"
      },
      "outputs": [
        {
          "data": {
            "text/plain": [
              "80"
            ]
          },
          "execution_count": 12,
          "metadata": {},
          "output_type": "execute_result"
        }
      ],
      "source": [
        "len(class_names_leaves)"
      ]
    },
    {
      "cell_type": "markdown",
      "metadata": {
        "id": "4HxLIGUB7lgS"
      },
      "source": [
        "#Data augmentation using ImageDataGenerator"
      ]
    },
    {
      "cell_type": "code",
      "execution_count": null,
      "metadata": {
        "colab": {
          "base_uri": "https://localhost:8080/"
        },
        "id": "aL0VvkCp5ZhV",
        "outputId": "8f00d702-073e-4ed5-8c7e-b50f09af12d9"
      },
      "outputs": [
        {
          "name": "stdout",
          "output_type": "stream",
          "text": [
            "Found 4106 images belonging to 80 classes.\n",
            "Found 1448 images belonging to 80 classes.\n",
            "Found 1346 images belonging to 80 classes.\n"
          ]
        }
      ],
      "source": [
        "from numpy.ma.core import true_divide\n",
        "from tensorflow.keras.preprocessing.image import ImageDataGenerator\n",
        "\n",
        "# Rescale the data and create data generator instances\n",
        "train_datagen = ImageDataGenerator(rescale=1/255.,\n",
        "                                   width_shift_range=0.2,\n",
        "                                   zoom_range=0.2,\n",
        "                                   height_shift_range=0.2,\n",
        "                                   shear_range=0.2,\n",
        "                                   horizontal_flip=True,\n",
        "                                   vertical_flip=True,\n",
        "                                   rotation_range=0.2)\n",
        "test_datagen = ImageDataGenerator(rescale=1/255.)\n",
        "valid_datagen=ImageDataGenerator(rescale=1/255.)\n",
        "train_dir=\"/content/(Splitted)Indian Medicininal Leaves Dataset/train\"\n",
        "test_dir=\"/content/(Splitted)Indian Medicininal Leaves Dataset/test\"\n",
        "valid_dir=\"/content/(Splitted)Indian Medicininal Leaves Dataset/val\"\n",
        "\n",
        "IMAGE_SHAPE=(600,450)\n",
        "# Load data in from directories and turn it into batches\n",
        "train_data_leaves = train_datagen.flow_from_directory(train_dir,\n",
        "                                               target_size=IMAGE_SHAPE,\n",
        "                                               batch_size=32,\n",
        "                                               class_mode='categorical') # changed to categorical\n",
        "\n",
        "test_data_leaves = train_datagen.flow_from_directory(test_dir,\n",
        "                                              target_size=IMAGE_SHAPE,\n",
        "                                              batch_size=32,\n",
        "                                              class_mode='categorical')\n",
        "valid_data_leaves=valid_datagen.flow_from_directory(valid_dir,\n",
        "                                         target_size=IMAGE_SHAPE,\n",
        "                                         batch_size=32,\n",
        "                                         class_mode='categorical')"
      ]
    },
    {
      "cell_type": "markdown",
      "metadata": {
        "id": "1DxRjUgK7qAy"
      },
      "source": [
        "#Tensorboard callback"
      ]
    },
    {
      "cell_type": "code",
      "execution_count": null,
      "metadata": {
        "id": "faqlvS6v5etb"
      },
      "outputs": [],
      "source": [
        "import datetime\n",
        "def create_tensorboard_callback(dir_name,experiment_name):\n",
        "  log_dir=dir_name+\"/\" +experiment_name+\"/\"+datetime.datetime.now().strftime(\"%Y%m%d-%H%M%S\")\n",
        "  tensorboard_callback=tf.keras.callbacks.Tensorboard(\n",
        "      log_dir=log_dir\n",
        "  )\n",
        "  print(f\"Saving tensorboard log files to :{log_dir}\")\n",
        "  return tensorboard_callback"
      ]
    },
    {
      "cell_type": "markdown",
      "metadata": {
        "id": "-rz9TLn_7uuC"
      },
      "source": [
        "#Model Checkpoint"
      ]
    },
    {
      "cell_type": "code",
      "execution_count": null,
      "metadata": {
        "id": "HsbJwLbt5gda"
      },
      "outputs": [],
      "source": [
        "checkpoint_path = \"model_checkpoints/cp.ckpt\" # saving weights requires \".ckpt\" extension\n",
        "model_checkpoint = tf.keras.callbacks.ModelCheckpoint(checkpoint_path,\n",
        "                                                      monitor=\"val_accuracy\", # save the model weights with best validation accuracy\n",
        "                                                      save_best_only=True, # only save the best weights\n",
        "                                                      save_weights_only=True, # only save model weights (not whole model)\n",
        "                                                      verbose=0)"
      ]
    },
    {
      "cell_type": "markdown",
      "metadata": {
        "id": "ZUqMgyfU8BBr"
      },
      "source": [
        "#Resnet_url"
      ]
    },
    {
      "cell_type": "code",
      "execution_count": null,
      "metadata": {
        "id": "3G7a9Bdo5iZf"
      },
      "outputs": [],
      "source": [
        "resnet_url = \"https://tfhub.dev/google/imagenet/resnet_v2_50/feature_vector/4\"\n"
      ]
    },
    {
      "cell_type": "markdown",
      "metadata": {
        "id": "pSRosMpJ8FAz"
      },
      "source": [
        "#Create_model"
      ]
    },
    {
      "cell_type": "code",
      "execution_count": null,
      "metadata": {
        "id": "oOyldK3C6jDk"
      },
      "outputs": [],
      "source": [
        "def create_model(model_url, num_classes=80):\n",
        "  \"\"\"Takes a TensorFlow Hub URL and creates a Keras Sequential model with it.\n",
        "\n",
        "  Args:\n",
        "    model_url (str): A TensorFlow Hub feature extraction URL.\n",
        "    num_classes (int): Number of output neurons in output layer,\n",
        "      should be equal to number of target classes, default 10.\n",
        "\n",
        "  Returns:\n",
        "    An uncompiled Keras Sequential model with model_url as feature\n",
        "    extractor layer and Dense output layer with num_classes outputs.\n",
        "  \"\"\"\n",
        "  # Download the pretrained model and save it as a Keras layer\n",
        "  feature_extractor_layer = hub.KerasLayer(model_url,\n",
        "                                           trainable=False, # freeze the underlying patterns\n",
        "                                           name='feature_extraction_layer',\n",
        "                                           input_shape=IMAGE_SHAPE+(3,)) # define the input image shape\n",
        "\n",
        "  # Create our own model\n",
        "  model = tf.keras.Sequential([\n",
        "    feature_extractor_layer, # use the feature extraction layer as the base\n",
        "    Dropout(0.2),\n",
        "    Dense(num_classes, activation='softmax', name='output_layer') # create our own output layer\n",
        "  ])\n",
        "\n",
        "  return model"
      ]
    },
    {
      "cell_type": "markdown",
      "metadata": {
        "id": "eEoNZJ3F8Llz"
      },
      "source": [
        "#Compiling the model"
      ]
    },
    {
      "cell_type": "code",
      "execution_count": null,
      "metadata": {
        "id": "zV3x_wYV6lKg"
      },
      "outputs": [],
      "source": [
        "resnet_model = create_model(resnet_url, num_classes=80)\n",
        "\n",
        "# Compile\n",
        "resnet_model.compile(loss='categorical_crossentropy',\n",
        "                     optimizer=tf.keras.optimizers.Adam(),\n",
        "                     metrics=['accuracy'])"
      ]
    },
    {
      "cell_type": "markdown",
      "metadata": {
        "id": "93hvFmZU8Nl7"
      },
      "source": [
        "#Fitting the model"
      ]
    },
    {
      "cell_type": "code",
      "execution_count": null,
      "metadata": {
        "colab": {
          "background_save": true,
          "base_uri": "https://localhost:8080/"
        },
        "id": "mqCqsutj6ns3",
        "outputId": "9430d5c2-5be8-4bea-a449-dd0480889dde"
      },
      "outputs": [
        {
          "name": "stdout",
          "output_type": "stream",
          "text": [
            "Epoch 1/5\n",
            "129/129 [==============================] - 659s 5s/step - loss: 3.3052 - accuracy: 0.2645 - val_loss: 2.2965 - val_accuracy: 0.5518\n",
            "Epoch 2/5\n",
            "129/129 [==============================] - 601s 5s/step - loss: 1.7414 - accuracy: 0.6361 - val_loss: 1.5347 - val_accuracy: 0.6878\n",
            "Epoch 3/5\n",
            "129/129 [==============================] - 603s 5s/step - loss: 1.1830 - accuracy: 0.7767 - val_loss: 1.1714 - val_accuracy: 0.7638\n",
            "Epoch 4/5\n",
            "129/129 [==============================] - 602s 5s/step - loss: 0.8807 - accuracy: 0.8312 - val_loss: 0.9753 - val_accuracy: 0.7963\n",
            "Epoch 5/5\n",
            "129/129 [==============================] - 646s 5s/step - loss: 0.7172 - accuracy: 0.8721 - val_loss: 0.8493 - val_accuracy: 0.8204\n"
          ]
        }
      ],
      "source": [
        "\n",
        "resnet_history = resnet_model.fit(train_data_leaves,\n",
        "                                  epochs=5,\n",
        "                                  steps_per_epoch=len(train_data_leaves),\n",
        "                                  validation_data=test_data_leaves,\n",
        "                                  validation_steps=len(test_data_leaves),\n",
        "                                  callbacks=[model_checkpoint]\n",
        "                                  # Add TensorBoard callback to model (callbacks parameter takes a list)\n",
        "                                  )"
      ]
    },
    {
      "cell_type": "markdown",
      "metadata": {
        "id": "3Advvepx8PYT"
      },
      "source": [
        "##Evaluating the model"
      ]
    },
    {
      "cell_type": "code",
      "execution_count": 22,
      "metadata": {
        "id": "9g21gjhR6p8K",
        "colab": {
          "base_uri": "https://localhost:8080/"
        },
        "outputId": "11ce08c7-2c1d-4a1e-d44f-c33288d1a3e7"
      },
      "outputs": [
        {
          "output_type": "stream",
          "name": "stdout",
          "text": [
            "43/43 [==============================] - 83s 2s/step - loss: 0.6966 - accuracy: 0.8529\n"
          ]
        },
        {
          "output_type": "execute_result",
          "data": {
            "text/plain": [
              "[0.6965513229370117, 0.8528974652290344]"
            ]
          },
          "metadata": {},
          "execution_count": 22
        }
      ],
      "source": [
        "resnet_model.evaluate(valid_data_leaves)"
      ]
    },
    {
      "cell_type": "markdown",
      "metadata": {
        "id": "CXWnWq6i8TCy"
      },
      "source": [
        "##Loading the weights"
      ]
    },
    {
      "cell_type": "code",
      "execution_count": 25,
      "metadata": {
        "id": "f9kjxi9J6rv6",
        "colab": {
          "base_uri": "https://localhost:8080/"
        },
        "outputId": "2174ca07-f50e-4efe-abbb-a62c7d349cd9"
      },
      "outputs": [
        {
          "output_type": "execute_result",
          "data": {
            "text/plain": [
              "<tensorflow.python.checkpoint.checkpoint.CheckpointLoadStatus at 0x790cca764ca0>"
            ]
          },
          "metadata": {},
          "execution_count": 25
        }
      ],
      "source": [
        "resnet_model.load_weights(checkpoint_path)"
      ]
    },
    {
      "cell_type": "markdown",
      "metadata": {
        "id": "bFh3R6cg8nES"
      },
      "source": [
        "##Loading the weights and retraining the model from epoch 5"
      ]
    },
    {
      "cell_type": "code",
      "execution_count": 26,
      "metadata": {
        "id": "OWr4p1EJ6thD",
        "colab": {
          "base_uri": "https://localhost:8080/"
        },
        "outputId": "6e6ca039-5060-4947-8f05-bb771da774a0"
      },
      "outputs": [
        {
          "output_type": "stream",
          "name": "stdout",
          "text": [
            "Epoch 5/10\n",
            "129/129 [==============================] - 456s 4s/step - loss: 0.6015 - accuracy: 0.8967 - val_loss: 0.6666 - val_accuracy: 0.8385\n",
            "Epoch 6/10\n",
            "129/129 [==============================] - 451s 3s/step - loss: 0.5139 - accuracy: 0.9123 - val_loss: 0.5128 - val_accuracy: 0.9010\n",
            "Epoch 7/10\n",
            "129/129 [==============================] - 456s 4s/step - loss: 0.4455 - accuracy: 0.9187 - val_loss: 0.5194 - val_accuracy: 0.8854\n",
            "Epoch 8/10\n",
            "129/129 [==============================] - 459s 4s/step - loss: 0.3946 - accuracy: 0.9338 - val_loss: 0.4980 - val_accuracy: 0.8906\n",
            "Epoch 9/10\n",
            "129/129 [==============================] - 444s 3s/step - loss: 0.3524 - accuracy: 0.9403 - val_loss: 0.4239 - val_accuracy: 0.9115\n",
            "Epoch 10/10\n",
            "129/129 [==============================] - 455s 4s/step - loss: 0.3085 - accuracy: 0.9515 - val_loss: 0.4771 - val_accuracy: 0.8698\n"
          ]
        }
      ],
      "source": [
        "initial_epochs=resnet_history.epoch[-1]\n",
        "epochs=initial_epochs+6\n",
        "resnet_history_2=resnet_model.fit(train_data_leaves,\n",
        "                                  epochs=epochs,\n",
        "                                  initial_epoch=initial_epochs,\n",
        "                                  steps_per_epoch=len(train_data_leaves),\n",
        "                                  validation_data=valid_data_leaves,\n",
        "                                  validation_steps=int(0.15*(len(valid_data_leaves))),\n",
        "                                  callbacks=model_checkpoint)"
      ]
    },
    {
      "cell_type": "markdown",
      "metadata": {
        "id": "5m2QGmBs8vxK"
      },
      "source": [
        "#Plotting loss curves"
      ]
    },
    {
      "cell_type": "code",
      "execution_count": 23,
      "metadata": {
        "id": "UrmUiqK160XD"
      },
      "outputs": [],
      "source": [
        "import matplotlib.pyplot as plt\n",
        "\n",
        "# Plot the validation and training data separately\n",
        "def plot_loss_curves(history):\n",
        "  \"\"\"\n",
        "  Returns separate loss curves for training and validation metrics.\n",
        "  \"\"\"\n",
        "  loss = history.history['loss']\n",
        "  val_loss = history.history['val_loss']\n",
        "\n",
        "  accuracy = history.history['accuracy']\n",
        "  val_accuracy = history.history['val_accuracy']\n",
        "\n",
        "  epochs = range(len(history.history['loss']))\n",
        "\n",
        "  # Plot loss\n",
        "  plt.plot(epochs, loss, label='training_loss')\n",
        "  plt.plot(epochs, val_loss, label='val_loss')\n",
        "  plt.title('Loss')\n",
        "  plt.xlabel('Epochs')\n",
        "  plt.legend()\n",
        "\n",
        "  # Plot accuracy\n",
        "  plt.figure()\n",
        "  plt.plot(epochs, accuracy, label='training_accuracy')\n",
        "  plt.plot(epochs, val_accuracy, label='val_accuracy')\n",
        "  plt.title('Accuracy')\n",
        "  plt.xlabel('Epochs')\n",
        "  plt.legend();"
      ]
    },
    {
      "cell_type": "code",
      "execution_count": 24,
      "metadata": {
        "id": "wCNTGMYP62oZ",
        "colab": {
          "base_uri": "https://localhost:8080/",
          "height": 927
        },
        "outputId": "3d5be063-9849-4a05-8943-279fb0a68da6"
      },
      "outputs": [
        {
          "output_type": "display_data",
          "data": {
            "text/plain": [
              "<Figure size 640x480 with 1 Axes>"
            ],
            "image/png": "[encoded data removed]"
          },
          "metadata": {}
        },
        {
          "output_type": "display_data",
          "data": {
            "text/plain": [
              "<Figure size 640x480 with 1 Axes>"
            ],
            "image/png": "[encoded data removed]"
          },
          "metadata": {}
        }
      ],
      "source": [
        "plot_loss_curves(resnet_history)"
      ]
    },
    {
      "cell_type": "code",
      "execution_count": null,
      "metadata": {
        "id": "X2RWUG_i64fU"
      },
      "outputs": [],
      "source": [
        "resnet_model.evaluate(test_data_leaves)"
      ]
    },
    {
      "cell_type": "markdown",
      "metadata": {
        "id": "NjXtcL_i80DC"
      },
      "source": [
        "#Loading and preprocessing the input image(load_and_prep_image)"
      ]
    },
    {
      "cell_type": "code",
      "execution_count": null,
      "metadata": {
        "id": "HQ_BJRV666qt"
      },
      "outputs": [],
      "source": [
        "def load_and_prep_image(filename):\n",
        "  \"\"\"\n",
        "  Reads an image from filename, turns it into a tensor\n",
        "  and reshapes it to (img_shape, img_shape, colour_channel).\n",
        "  \"\"\"\n",
        "  # Read in target file (an image)\n",
        "  img = tf.io.read_file(filename)\n",
        "\n",
        "  # Decode the read file into a tensor & ensure 3 colour channels\n",
        "  # (our model is trained on images with 3 colour channels and sometimes images have 4 colour channels)\n",
        "  img = tf.image.decode_image(img, channels=3)\n",
        "\n",
        "  # Resize the image (to the same size our model was trained on)\n",
        "  img = tf.image.resize(img, size = [600,450])\n",
        "\n",
        "  # Rescale the image (get all values between 0 and 1)\n",
        "  img = img/255.\n",
        "  return img"
      ]
    },
    {
      "cell_type": "markdown",
      "metadata": {
        "id": "4g9O5LE38_Gi"
      },
      "source": [
        "#Predicting the plant and plotting the image"
      ]
    },
    {
      "cell_type": "code",
      "execution_count": null,
      "metadata": {
        "id": "mELBGKvk6-iY"
      },
      "outputs": [],
      "source": [
        "def pred_and_plot(model, filename, class_names):\n",
        "  \"\"\"\n",
        "  Imports an image located at filename, makes a prediction on it with\n",
        "  a trained model and plots the image with the predicted class as the title.\n",
        "  \"\"\"\n",
        "  # Import the target image and preprocess it\n",
        "  img = load_and_prep_image(filename)\n",
        "\n",
        "  # Make a prediction\n",
        "  pred = model.predict(tf.expand_dims(img, axis=0))\n",
        "\n",
        "  # Get the predicted class\n",
        "  if len(pred[0]) > 1: # check for multi-class\n",
        "    pred_class = class_names[pred.argmax()] # if more than one output, take the max\n",
        "  else:\n",
        "    pred_class = class_names[int(tf.round(pred)[0][0])] # if only one output, round\n",
        "\n",
        "  # Plot the image and predicted class\n",
        "  plt.imshow(img)\n",
        "  plt.title(f\"Prediction: {pred_class}\")\n",
        "  plt.axis(False);"
      ]
    },
    {
      "cell_type": "code",
      "source": [
        "\n",
        "path = f\"/content/gdrive/My Drive/resnet_v2_model(<94)\"\n",
        "resnet_model.save(path)"
      ],
      "metadata": {
        "id": "PoxsitYFTEzH"
      },
      "execution_count": 27,
      "outputs": []
    },
    {
      "cell_type": "code",
      "source": [],
      "metadata": {
        "id": "tqt4oj20TOtP"
      },
      "execution_count": null,
      "outputs": []
    }
  ],
  "metadata": {
    "accelerator": "GPU",
    "colab": {
      "provenance": [],
      "authorship_tag": "ABX9TyNTS/gp+mQq7QyMsq8dJlSM",
      "include_colab_link": true
    },
    "kernelspec": {
      "display_name": "Python 3",
      "name": "python3"
    },
    "language_info": {
      "name": "python"
    }
  },
  "nbformat": 4,
  "nbformat_minor": 0
}